{
 "cells": [
  {
   "cell_type": "code",
   "execution_count": 1,
   "metadata": {
    "dotnet_interactive": {
     "language": "javascript"
    },
    "polyglot_notebook": {
     "kernelName": "javascript"
    },
    "vscode": {
     "languageId": "polyglot-notebook"
    }
   },
   "outputs": [
    {
     "data": {
      "text/plain": [
       "symbol"
      ]
     },
     "metadata": {},
     "output_type": "display_data"
    }
   ],
   "source": [
    "console.log(typeof Symbol(\"10\"))"
   ]
  },
  {
   "cell_type": "code",
   "execution_count": 3,
   "metadata": {
    "dotnet_interactive": {
     "language": "javascript"
    },
    "polyglot_notebook": {
     "kernelName": "javascript"
    },
    "vscode": {
     "languageId": "polyglot-notebook"
    }
   },
   "outputs": [
    {
     "data": {
      "text/plain": [
       "object"
      ]
     },
     "metadata": {},
     "output_type": "display_data"
    }
   ],
   "source": [
    "console.log(typeof null)"
   ]
  },
  {
   "cell_type": "code",
   "execution_count": null,
   "metadata": {
    "dotnet_interactive": {
     "language": "javascript"
    },
    "polyglot_notebook": {
     "kernelName": "javascript"
    },
    "vscode": {
     "languageId": "polyglot-notebook"
    }
   },
   "outputs": [
    {
     "data": {
      "text/plain": [
       "true"
      ]
     },
     "metadata": {},
     "output_type": "display_data"
    },
    {
     "data": {
      "text/plain": [
       "false"
      ]
     },
     "metadata": {},
     "output_type": "display_data"
    }
   ],
   "source": [
    "// Symbol型は唯一無二な値を作り出すためのデータ型\n",
    "// 通常の数値や文字列だと、「違う意味を持った同じ値」を区別できない\n",
    "// 同じ値から作られる、別の意味合いを持った値にしたいとき\n",
    "console.log(\"a\"===\"a\")\n",
    "console.log(Symbol(\"a\")===Symbol(\"a\"))"
   ]
  },
  {
   "cell_type": "code",
   "execution_count": null,
   "metadata": {
    "dotnet_interactive": {
     "language": "javascript"
    },
    "polyglot_notebook": {
     "kernelName": "javascript"
    },
    "vscode": {
     "languageId": "polyglot-notebook"
    }
   },
   "outputs": [
    {
     "data": {
      "text/plain": [
       "赤色です"
      ]
     },
     "metadata": {},
     "output_type": "display_data"
    }
   ],
   "source": [
    "const COLOR_RED = 0xff0000; //定数に値を入れておく\n",
    "let color = COLOR_RED;\n",
    "// let color = 16711680;\n",
    "if(color === COLOR_RED){\n",
    "    console.log(\"赤色です\")\n",
    "}else{\n",
    "    console.log(\"赤以外の色です\")\n",
    "}"
   ]
  },
  {
   "cell_type": "code",
   "execution_count": null,
   "metadata": {
    "dotnet_interactive": {
     "language": "javascript"
    },
    "polyglot_notebook": {
     "kernelName": "javascript"
    },
    "vscode": {
     "languageId": "polyglot-notebook"
    }
   },
   "outputs": [
    {
     "data": {
      "text/plain": [
       "true"
      ]
     },
     "metadata": {},
     "output_type": "display_data"
    },
    {
     "data": {
      "text/plain": [
       "false"
      ]
     },
     "metadata": {},
     "output_type": "display_data"
    }
   ],
   "source": [
    "// null 中身が空\n",
    "// undefined 未定義\n",
    "console.log(null==undefined)//等価比較ではtrue\n",
    "console.log(null===undefined)//厳密等価比較ではfalse"
   ]
  },
  {
   "cell_type": "code",
   "execution_count": null,
   "metadata": {
    "dotnet_interactive": {
     "language": "javascript"
    },
    "polyglot_notebook": {
     "kernelName": "javascript"
    },
    "vscode": {
     "languageId": "polyglot-notebook"
    }
   },
   "outputs": [
    {
     "data": {
      "text/plain": [
       "null"
      ]
     },
     "metadata": {},
     "output_type": "display_data"
    }
   ],
   "source": [
    "// 未定義のプロパティを参照しようとすると undefined\n",
    "// エラーにはならない\n",
    "let person = {}\n",
    "console.log(person.name);"
   ]
  },
  {
   "cell_type": "code",
   "execution_count": 77,
   "metadata": {
    "dotnet_interactive": {
     "language": "javascript"
    },
    "polyglot_notebook": {
     "kernelName": "javascript"
    },
    "vscode": {
     "languageId": "polyglot-notebook"
    }
   },
   "outputs": [
    {
     "data": {
      "text/plain": [
       "value1"
      ]
     },
     "metadata": {},
     "output_type": "display_data"
    },
    {
     "data": {
      "text/plain": [
       "value3"
      ]
     },
     "metadata": {},
     "output_type": "display_data"
    },
    {
     "data": {
      "text/plain": [
       "red"
      ]
     },
     "metadata": {},
     "output_type": "display_data"
    }
   ],
   "source": [
    "const SymbolColor = Symbol(\"color\")\n",
    "const obj = { // リテラル表現\n",
    "  \"propname1\":\"value1\",\n",
    "  propname2:\"value2\",\n",
    "  \"prop-name3\":\"value3\",\n",
    "  [SymbolColor]:\"red\"\n",
    "};\n",
    "// プロパティ名で\"\"を省略できるのは、変数名として使える表現のときのみ\n",
    "console.log(obj.propname1)\n",
    "// obj.prop-name3\n",
    "console.log(obj[\"prop-name3\"])\n",
    "console.log(obj[SymbolColor])"
   ]
  },
  {
   "cell_type": "code",
   "execution_count": null,
   "metadata": {
    "dotnet_interactive": {
     "language": "javascript"
    },
    "polyglot_notebook": {
     "kernelName": "javascript"
    },
    "vscode": {
     "languageId": "polyglot-notebook"
    }
   },
   "outputs": [
    {
     "data": {
      "text/plain": [
       "Taro"
      ]
     },
     "metadata": {},
     "output_type": "display_data"
    },
    {
     "data": {
      "text/plain": [
       "20"
      ]
     },
     "metadata": {},
     "output_type": "display_data"
    }
   ],
   "source": [
    "const person = {\n",
    "    name:\"Taro\",\n",
    "    age:20    \n",
    "};\n",
    "console.log(person.name)\n",
    "console.log(person[\"age\"])//ブラケット表記法は文字列で指定する  "
   ]
  },
  {
   "cell_type": "code",
   "execution_count": 16,
   "metadata": {
    "dotnet_interactive": {
     "language": "javascript"
    },
    "polyglot_notebook": {
     "kernelName": "javascript"
    },
    "vscode": {
     "languageId": "polyglot-notebook"
    }
   },
   "outputs": [
    {
     "data": {
      "text/plain": [
       "Taro"
      ]
     },
     "metadata": {},
     "output_type": "display_data"
    },
    {
     "data": {
      "text/plain": [
       "20"
      ]
     },
     "metadata": {},
     "output_type": "display_data"
    }
   ],
   "source": [
    "const age = Symbol(\"age\");\n",
    "const person = {\n",
    "    \"name-ja\":\"Taro\",\n",
    "    [age]:20\n",
    "};\n",
    "console.log(person[\"name-ja\"])\n",
    "console.log(person[age])"
   ]
  },
  {
   "cell_type": "code",
   "execution_count": null,
   "metadata": {
    "dotnet_interactive": {
     "language": "javascript"
    },
    "polyglot_notebook": {
     "kernelName": "javascript"
    },
    "vscode": {
     "languageId": "polyglot-notebook"
    }
   },
   "outputs": [
    {
     "data": {
      "application/json": {
       "age": 20,
       "name": "Taro"
      }
     },
     "metadata": {},
     "output_type": "display_data"
    }
   ],
   "source": [
    "// プロパティを自由に追加できる\n",
    "const person = {};\n",
    "person.name = \"Taro\";\n",
    "person.age = 20;\n",
    "console.log(person)"
   ]
  },
  {
   "cell_type": "code",
   "execution_count": 82,
   "metadata": {
    "dotnet_interactive": {
     "language": "javascript"
    },
    "polyglot_notebook": {
     "kernelName": "javascript"
    },
    "vscode": {
     "languageId": "polyglot-notebook"
    }
   },
   "outputs": [
    {
     "data": {
      "application/json": [
       1,
       2
      ]
     },
     "metadata": {},
     "output_type": "display_data"
    },
    {
     "data": {
      "application/json": [
       1,
       2,
       "3",
       4,
       "5"
      ]
     },
     "metadata": {},
     "output_type": "display_data"
    },
    {
     "data": {
      "application/json": [
       1,
       2
      ]
     },
     "metadata": {},
     "output_type": "display_data"
    },
    {
     "data": {
      "application/json": [
       "3",
       4,
       "5"
      ]
     },
     "metadata": {},
     "output_type": "display_data"
    }
   ],
   "source": [
    "const arr = [1,2,\"3\",4,\"5\"];\n",
    "// 非破壊\n",
    "console.log(arr.slice(0,2))\n",
    "console.log(arr)\n",
    "// 破壊\n",
    "console.log(arr.splice(0,2))\n",
    "console.log(arr)"
   ]
  },
  {
   "cell_type": "code",
   "execution_count": 20,
   "metadata": {
    "dotnet_interactive": {
     "language": "javascript"
    },
    "polyglot_notebook": {
     "kernelName": "javascript"
    },
    "vscode": {
     "languageId": "polyglot-notebook"
    }
   },
   "outputs": [
    {
     "data": {
      "application/json": [
       "A",
       "B",
       "C"
      ]
     },
     "metadata": {},
     "output_type": "display_data"
    }
   ],
   "source": [
    "const arr = new Array(\"A\",\"B\",\"C\");\n",
    "console.log(arr)"
   ]
  },
  {
   "cell_type": "code",
   "execution_count": 21,
   "metadata": {
    "dotnet_interactive": {
     "language": "javascript"
    },
    "polyglot_notebook": {
     "kernelName": "javascript"
    },
    "vscode": {
     "languageId": "polyglot-notebook"
    }
   },
   "outputs": [
    {
     "data": {
      "application/json": [
       "A",
       "B",
       "C"
      ]
     },
     "metadata": {},
     "output_type": "display_data"
    }
   ],
   "source": [
    "const arr = [\"A\",\"B\",\"C\"]\n",
    "console.log(arr)"
   ]
  },
  {
   "cell_type": "code",
   "execution_count": 2,
   "metadata": {
    "dotnet_interactive": {
     "language": "javascript"
    },
    "polyglot_notebook": {
     "kernelName": "javascript"
    },
    "vscode": {
     "languageId": "polyglot-notebook"
    }
   },
   "outputs": [
    {
     "data": {
      "application/json": [
       1,
       2,
       3,
       4,
       5,
       6
      ]
     },
     "metadata": {},
     "output_type": "display_data"
    },
    {
     "data": {
      "application/json": [
       0,
       1,
       2,
       3,
       4,
       5,
       6
      ]
     },
     "metadata": {},
     "output_type": "display_data"
    },
    {
     "data": {
      "application/json": [
       0,
       1,
       2,
       3,
       4,
       5
      ]
     },
     "metadata": {},
     "output_type": "display_data"
    },
    {
     "data": {
      "application/json": [
       1,
       2,
       3,
       4,
       5
      ]
     },
     "metadata": {},
     "output_type": "display_data"
    },
    {
     "data": {
      "application/json": [
       3,
       4
      ]
     },
     "metadata": {},
     "output_type": "display_data"
    },
    {
     "data": {
      "application/json": [
       1,
       2,
       5
      ]
     },
     "metadata": {},
     "output_type": "display_data"
    }
   ],
   "source": [
    "//破壊的メソッド\n",
    "const arr = [1,2,3,4,5]\n",
    "arr.push(6)\n",
    "console.log(arr)\n",
    "arr.unshift(0)\n",
    "console.log(arr)\n",
    "arr.pop()\n",
    "console.log(arr)\n",
    "arr.shift()\n",
    "console.log(arr)\n",
    "// splice(a,b) インデクス番号aからb個の要素を取り除き、新しい配列を作成する\n",
    "console.log(arr.splice(2,2))\n",
    "console.log(arr)"
   ]
  },
  {
   "cell_type": "code",
   "execution_count": 1,
   "metadata": {
    "dotnet_interactive": {
     "language": "javascript"
    },
    "polyglot_notebook": {
     "kernelName": "javascript"
    },
    "vscode": {
     "languageId": "polyglot-notebook"
    }
   },
   "outputs": [
    {
     "data": {
      "text/plain": [
       "5"
      ]
     },
     "metadata": {},
     "output_type": "display_data"
    },
    {
     "data": {
      "text/plain": [
       "5"
      ]
     },
     "metadata": {},
     "output_type": "display_data"
    },
    {
     "data": {
      "application/json": [
       1,
       2,
       3,
       4,
       5,
       6,
       7,
       8
      ]
     },
     "metadata": {},
     "output_type": "display_data"
    },
    {
     "data": {
      "application/json": [
       1,
       2,
       3,
       4,
       5
      ]
     },
     "metadata": {},
     "output_type": "display_data"
    },
    {
     "data": {
      "text/plain": [
       "4"
      ]
     },
     "metadata": {},
     "output_type": "display_data"
    },
    {
     "data": {
      "text/plain": [
       "false"
      ]
     },
     "metadata": {},
     "output_type": "display_data"
    },
    {
     "data": {
      "text/plain": [
       "1/2/3/4/5"
      ]
     },
     "metadata": {},
     "output_type": "display_data"
    },
    {
     "data": {
      "application/json": [
       3,
       4,
       5
      ]
     },
     "metadata": {},
     "output_type": "display_data"
    }
   ],
   "source": [
    "//非破壊的メソッド\n",
    "const arr = [1,2,3,4,5]\n",
    "console.log(arr.at(4))//与えられたindexの要素を返す\n",
    "console.log(arr.at(-1))\n",
    "console.log(arr.concat(6,7,8))\n",
    "console.log(arr)//元のarrは変更しない\n",
    "console.log(arr.indexOf(5))\n",
    "console.log(arr.includes(6))\n",
    "console.log(arr.join(\"/\"))//与えられた文字列を間に挟んだ形の新しい配列を作る\n",
    "console.log(arr.slice(2,5))//終了位置含まず\n"
   ]
  },
  {
   "cell_type": "code",
   "execution_count": null,
   "metadata": {
    "dotnet_interactive": {
     "language": "javascript"
    },
    "polyglot_notebook": {
     "kernelName": "javascript"
    },
    "vscode": {
     "languageId": "polyglot-notebook"
    }
   },
   "outputs": [
    {
     "data": {
      "text/plain": [
       "3"
      ]
     },
     "metadata": {},
     "output_type": "display_data"
    },
    {
     "data": {
      "text/plain": [
       "v1"
      ]
     },
     "metadata": {},
     "output_type": "display_data"
    },
    {
     "data": {
      "text/plain": [
       "null"
      ]
     },
     "metadata": {},
     "output_type": "display_data"
    },
    {
     "data": {
      "text/plain": [
       "false"
      ]
     },
     "metadata": {},
     "output_type": "display_data"
    },
    {
     "data": {
      "text/plain": [
       "false"
      ]
     },
     "metadata": {},
     "output_type": "display_data"
    },
    {
     "data": {
      "text/plain": [
       "true"
      ]
     },
     "metadata": {},
     "output_type": "display_data"
    }
   ],
   "source": [
    "// map のコンストラクタに渡す引数は 2次元配列\n",
    "const map = new Map([[\"k1\",\"v1\"],[\"k2\",\"v2\"]])\n",
    "map.set(\"k3\",\"v3\")\n",
    "console.log(map.size)\n",
    "console.log(map.get(\"k1\"))\n",
    "console.log(map.get(\"k4\"))\n",
    "console.log(map.has(\"k4\"))\n",
    "console.log(map.delete(\"k4\"))\n",
    "console.log(map.delete(\"k3\"))"
   ]
  },
  {
   "cell_type": "code",
   "execution_count": 52,
   "metadata": {
    "dotnet_interactive": {
     "language": "javascript"
    },
    "polyglot_notebook": {
     "kernelName": "javascript"
    },
    "vscode": {
     "languageId": "polyglot-notebook"
    }
   },
   "outputs": [
    {
     "data": {
      "text/plain": [
       "3"
      ]
     },
     "metadata": {},
     "output_type": "display_data"
    },
    {
     "data": {
      "text/plain": [
       "2"
      ]
     },
     "metadata": {},
     "output_type": "display_data"
    }
   ],
   "source": [
    "const myset = new Set();\n",
    "myset.add(1)\n",
    "myset.add(2)\n",
    "myset.add(3)\n",
    "myset.add(1)\n",
    "console.log(myset.size)\n",
    "myset.delete(1)\n",
    "console.log(myset.size)"
   ]
  },
  {
   "cell_type": "code",
   "execution_count": 53,
   "metadata": {
    "dotnet_interactive": {
     "language": "javascript"
    },
    "polyglot_notebook": {
     "kernelName": "javascript"
    },
    "vscode": {
     "languageId": "polyglot-notebook"
    }
   },
   "outputs": [
    {
     "data": {
      "application/json": {
       "address": "神奈川県厚木市旭町1-27-6 本厚木マイビル",
       "capital": 10000000,
       "name": "湘南ハイテク企画",
       "numOfEmployees": 100,
       "postcode": "243-0014",
       "tel": "046-280-6812"
      }
     },
     "metadata": {},
     "output_type": "display_data"
    }
   ],
   "source": [
    "const company = {\n",
    "    name:\"湘南ハイテク企画\",\n",
    "    capital:10_000_000,\n",
    "    numOfEmployees:100,\n",
    "    postcode:\"243-0014\",\n",
    "    address:\"神奈川県厚木市旭町1-27-6 本厚木マイビル\",\n",
    "    tel:\"046-280-6812\"    \n",
    "}\n",
    "console.log(company)"
   ]
  },
  {
   "cell_type": "code",
   "execution_count": null,
   "metadata": {
    "dotnet_interactive": {
     "language": "javascript"
    },
    "polyglot_notebook": {
     "kernelName": "javascript"
    },
    "vscode": {
     "languageId": "polyglot-notebook"
    }
   },
   "outputs": [
    {
     "data": {
      "application/json": [
       "ワニ",
       "ヘビ",
       "トカゲ",
       "カメ"
      ]
     },
     "metadata": {},
     "output_type": "display_data"
    },
    {
     "data": {
      "application/json": [
       "カエル",
       "イモリ",
       "サンショウウオ"
      ]
     },
     "metadata": {},
     "output_type": "display_data"
    }
   ],
   "source": [
    "//spliceは元の配列から取り除きかつ新しい配列を作る\n",
    "const livingThings = [\"ワニ\" , \"ヘビ\", \"トカゲ\", \"カメ\", \"カエル\", \"イモリ\", \"サンショウウオ\"];\n",
    "const reptiles = livingThings.splice(0,4);  // 爬虫類\n",
    "const amphibian = livingThings;  // 両生類\n",
    "\n",
    "console.log(reptiles);\n",
    "console.log(amphibian);"
   ]
  },
  {
   "cell_type": "code",
   "execution_count": null,
   "metadata": {
    "dotnet_interactive": {
     "language": "javascript"
    },
    "polyglot_notebook": {
     "kernelName": "javascript"
    },
    "vscode": {
     "languageId": "polyglot-notebook"
    }
   },
   "outputs": [
    {
     "data": {
      "application/json": [
       "ワニ",
       "ヘビ",
       "トカゲ",
       "カメ"
      ]
     },
     "metadata": {},
     "output_type": "display_data"
    },
    {
     "data": {
      "application/json": [
       "ワニ",
       "ヘビ",
       "トカゲ",
       "カメ",
       "カエル",
       "イモリ",
       "サンショウウオ"
      ]
     },
     "metadata": {},
     "output_type": "display_data"
    }
   ],
   "source": [
    "//sliceはコピーを作るだけで、元の配列は変更しない\n",
    "const livingThings = [\"ワニ\" , \"ヘビ\", \"トカゲ\", \"カメ\", \"カエル\", \"イモリ\", \"サンショウウオ\"];\n",
    "const reptiles = livingThings.slice(0,4);  // 爬虫類\n",
    "const amphibian = livingThings;  // 両生類\n",
    "\n",
    "console.log(reptiles);\n",
    "console.log(amphibian);"
   ]
  },
  {
   "cell_type": "code",
   "execution_count": null,
   "metadata": {
    "dotnet_interactive": {
     "language": "csharp"
    },
    "polyglot_notebook": {
     "kernelName": "csharp"
    },
    "vscode": {
     "languageId": "polyglot-notebook"
    }
   },
   "outputs": [],
   "source": []
  }
 ],
 "metadata": {
  "kernelspec": {
   "display_name": ".NET (C#)",
   "language": "C#",
   "name": ".net-csharp"
  },
  "language_info": {
   "name": "python"
  },
  "polyglot_notebook": {
   "kernelInfo": {
    "defaultKernelName": "csharp",
    "items": [
     {
      "aliases": [],
      "name": "csharp"
     }
    ]
   }
  }
 },
 "nbformat": 4,
 "nbformat_minor": 2
}
