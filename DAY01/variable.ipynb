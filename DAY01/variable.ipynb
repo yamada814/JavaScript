{
 "cells": [
  {
   "cell_type": "code",
   "execution_count": null,
   "metadata": {
    "dotnet_interactive": {
     "language": "javascript"
    },
    "polyglot_notebook": {
     "kernelName": "javascript"
    },
    "vscode": {
     "languageId": "polyglot-notebook"
    }
   },
   "outputs": [
    {
     "data": {
      "text/plain": [
       "2"
      ]
     },
     "metadata": {},
     "output_type": "display_data"
    },
    {
     "data": {
      "text/plain": [
       "1"
      ]
     },
     "metadata": {},
     "output_type": "display_data"
    }
   ],
   "source": [
    "//letで宣言した変数はローカルスコープが有効になる\n",
    "// 所属しているスコープが違ければ異なる変数として宣言できる\n",
    "let letval = 1;\n",
    "{\n",
    "    let letval = 2;\n",
    "    console.log(letval);\n",
    "}\n",
    "console.log(letval);"
   ]
  },
  {
   "cell_type": "code",
   "execution_count": null,
   "metadata": {
    "dotnet_interactive": {
     "language": "javascript"
    },
    "polyglot_notebook": {
     "kernelName": "javascript"
    },
    "vscode": {
     "languageId": "polyglot-notebook"
    }
   },
   "outputs": [
    {
     "data": {
      "text/plain": [
       "1"
      ]
     },
     "metadata": {},
     "output_type": "display_data"
    }
   ],
   "source": [
    "// 内側のスコープで宣言されていなかったら外側のスコープを参照する\n",
    "let letval = 1;\n",
    "{\n",
    "    console.log(letval);\n",
    "}"
   ]
  },
  {
   "cell_type": "code",
   "execution_count": null,
   "metadata": {
    "dotnet_interactive": {
     "language": "javascript"
    },
    "polyglot_notebook": {
     "kernelName": "javascript"
    },
    "vscode": {
     "languageId": "polyglot-notebook"
    }
   },
   "outputs": [],
   "source": [
    "// let で宣言した変数は 再代入はできるが再宣言はできない\n",
    "let hp = 10;\n",
    "hp = 5\n",
    "// let hp = 5"
   ]
  },
  {
   "cell_type": "code",
   "execution_count": null,
   "metadata": {
    "dotnet_interactive": {
     "language": "javascript"
    },
    "polyglot_notebook": {
     "kernelName": "javascript"
    },
    "vscode": {
     "languageId": "polyglot-notebook"
    }
   },
   "outputs": [
    {
     "ename": "Error",
     "evalue": "Assignment to constant variable.",
     "output_type": "error",
     "traceback": [
      "Assignment to constant variable."
     ]
    }
   ],
   "source": [
    "// const で宣言した変数は 再代入も再宣言もできない\n",
    "const hp = 10;\n",
    "//hp = 5"
   ]
  },
  {
   "cell_type": "code",
   "execution_count": 8,
   "metadata": {
    "dotnet_interactive": {
     "language": "javascript"
    },
    "polyglot_notebook": {
     "kernelName": "javascript"
    },
    "vscode": {
     "languageId": "polyglot-notebook"
    }
   },
   "outputs": [
    {
     "data": {
      "application/json": {
       "name": "花子",
       "species": "ぞう"
      }
     },
     "metadata": {},
     "output_type": "display_data"
    }
   ],
   "source": [
    "const animal = {\n",
    "\tspecies: \"きりん\",\n",
    "\tname: \"花子\"\n",
    "}\n",
    "animal.species = \"ぞう\"\n",
    "console.log(animal)"
   ]
  },
  {
   "cell_type": "code",
   "execution_count": null,
   "metadata": {
    "dotnet_interactive": {
     "language": "javascript"
    },
    "polyglot_notebook": {
     "kernelName": "javascript"
    },
    "vscode": {
     "languageId": "polyglot-notebook"
    }
   },
   "outputs": [
    {
     "data": {
      "text/plain": [
       "2"
      ]
     },
     "metadata": {},
     "output_type": "display_data"
    },
    {
     "ename": "Error",
     "evalue": "letVal is not defined",
     "output_type": "error",
     "traceback": [
      "letVal is not defined"
     ]
    }
   ],
   "source": [
    "{\n",
    "    let letVal = 2;\n",
    "    console.log(letVal);\n",
    "}\n",
    "// 内側のスコープは参照できない\n",
    "console.log(letVal)"
   ]
  },
  {
   "cell_type": "code",
   "execution_count": null,
   "metadata": {
    "dotnet_interactive": {
     "language": "javascript"
    },
    "polyglot_notebook": {
     "kernelName": "javascript"
    },
    "vscode": {
     "languageId": "polyglot-notebook"
    }
   },
   "outputs": [
    {
     "data": {
      "text/plain": [
       "2"
      ]
     },
     "metadata": {},
     "output_type": "display_data"
    },
    {
     "data": {
      "text/plain": [
       "2"
      ]
     },
     "metadata": {},
     "output_type": "display_data"
    }
   ],
   "source": [
    "{\n",
    "    globalVal = 2;\n",
    "    console.log(globalVal);\n",
    "}\n",
    "// let や const を付けずに宣言すると グローバルスコープの変数として宣言される\n",
    "console.log(globalVal)"
   ]
  },
  {
   "cell_type": "code",
   "execution_count": 14,
   "metadata": {
    "dotnet_interactive": {
     "language": "javascript"
    },
    "polyglot_notebook": {
     "kernelName": "javascript"
    },
    "vscode": {
     "languageId": "polyglot-notebook"
    }
   },
   "outputs": [
    {
     "data": {
      "text/plain": [
       "3132"
      ]
     },
     "metadata": {},
     "output_type": "display_data"
    }
   ],
   "source": [
    "const apple = 200, banana = 150, strawberry = 500;  // 各商品の単価\n",
    "\n",
    "const TAX_RATE = 8;\n",
    "let sum = 0;\n",
    "\n",
    "sum += apple * 3 * (1 + TAX_RATE / 100);\n",
    "sum += banana * 2 * (1 + TAX_RATE / 100);\n",
    "sum += strawberry * 4 * (1 + TAX_RATE / 100);\n",
    "\n",
    "console.log(sum);"
   ]
  },
  {
   "cell_type": "code",
   "execution_count": 17,
   "metadata": {
    "dotnet_interactive": {
     "language": "javascript"
    },
    "polyglot_notebook": {
     "kernelName": "javascript"
    },
    "vscode": {
     "languageId": "polyglot-notebook"
    }
   },
   "outputs": [
    {
     "data": {
      "text/plain": [
       "Aさんの購入金額：3132"
      ]
     },
     "metadata": {},
     "output_type": "display_data"
    },
    {
     "data": {
      "text/plain": [
       "Bさんの購入金額：2160"
      ]
     },
     "metadata": {},
     "output_type": "display_data"
    },
    {
     "data": {
      "text/plain": [
       "AさんとBさんの購入金額の総和：5292"
      ]
     },
     "metadata": {},
     "output_type": "display_data"
    }
   ],
   "source": [
    "const apple = 200, banana = 150, strawberry = 500;  // 各商品の単価\n",
    "const TAX_RATE = 8;  // 消費税率\n",
    "\n",
    "let total = 0;  //２人の購入金額の総和\n",
    "{\n",
    "// Aさんの購入金額の計算\n",
    "let sum = 0;\n",
    "sum += apple * 3 * (1 + TAX_RATE / 100);\n",
    "sum += banana * 2 * (1 + TAX_RATE / 100);\n",
    "sum += strawberry * 4 * (1 + TAX_RATE / 100);\n",
    "console.log(\"Aさんの購入金額：\" + sum);\n",
    "total += sum;\n",
    "}\n",
    "{\n",
    "// Bさんの購入金額の計算\n",
    "let sum = 0;\n",
    "sum += apple * 1 * (1 + TAX_RATE / 100);\n",
    "sum += banana * 2 * (1 + TAX_RATE / 100);\n",
    "sum += strawberry * 3 * (1 + TAX_RATE / 100);\n",
    "console.log(\"Bさんの購入金額：\" + sum);\n",
    "total += sum;\n",
    "}\n",
    "\n",
    "console.log(\"AさんとBさんの購入金額の総和：\" + total);"
   ]
  },
  {
   "cell_type": "code",
   "execution_count": null,
   "metadata": {
    "dotnet_interactive": {
     "language": "csharp"
    },
    "polyglot_notebook": {
     "kernelName": "csharp"
    },
    "vscode": {
     "languageId": "polyglot-notebook"
    }
   },
   "outputs": [],
   "source": []
  }
 ],
 "metadata": {
  "kernelspec": {
   "display_name": ".NET (C#)",
   "language": "C#",
   "name": ".net-csharp"
  },
  "language_info": {
   "name": "python"
  },
  "polyglot_notebook": {
   "kernelInfo": {
    "defaultKernelName": "csharp",
    "items": [
     {
      "aliases": [],
      "name": "csharp"
     }
    ]
   }
  }
 },
 "nbformat": 4,
 "nbformat_minor": 2
}
