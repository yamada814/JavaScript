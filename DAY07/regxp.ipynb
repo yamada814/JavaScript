{
 "cells": [
  {
   "cell_type": "code",
   "execution_count": null,
   "metadata": {
    "dotnet_interactive": {
     "language": "javascript"
    },
    "polyglot_notebook": {
     "kernelName": "javascript"
    },
    "vscode": {
     "languageId": "polyglot-notebook"
    }
   },
   "outputs": [],
   "source": [
    "[abc] abcのどれか一文字\n",
    "[a-z] a~zのどれか一文字\n",
    "[^abc] abc以外のどれか一文字\n",
    "[^0-9] 0~9以外のどれか一文字\n",
    "a.c  .に入る文字は改行の字以外ならなんでも良い\n",
    "\\d 半角数字\n",
    "\\D 半角数字以外\n",
    "\\w 半角英数字または_[A-Za-z0-9_]\n",
    "\\W ↑以外\n",
    "\\s スペース、タブ、改行\n",
    "x|y xかyのいずれか\n"
   ]
  },
  {
   "cell_type": "code",
   "execution_count": null,
   "metadata": {
    "dotnet_interactive": {
     "language": "javascript"
    },
    "polyglot_notebook": {
     "kernelName": "javascript"
    },
    "vscode": {
     "languageId": "polyglot-notebook"
    }
   },
   "outputs": [],
   "source": [
    "/^abc/ 先頭文字がabc\n",
    "/xyz$/ 末尾がxyz\n",
    "/\\bin/ 単語の区切りがin (invite)\n",
    "/\\Bin/ 単語の区切り以外がin (mini,mixin)\n",
    "/apple(?=\\stea)/ appleの後ろが teaとなっている場合のapple (apple teaのtea)\n",
    "/apple(?!\\stea)/ appleの後ろが teaじゃない時のapple(orange teaのtea)\n",
    "/(?<=apple\\s)tea/ teaの前がappleとなっている時のtea(apple teaのtea)\n",
    "/(?<!apple\\s)tea/ teaの前がappleじゃない時のtea(orange teaのtea)"
   ]
  },
  {
   "cell_type": "code",
   "execution_count": null,
   "metadata": {
    "dotnet_interactive": {
     "language": "javascript"
    },
    "polyglot_notebook": {
     "kernelName": "javascript"
    },
    "vscode": {
     "languageId": "polyglot-notebook"
    }
   },
   "outputs": [
    {
     "data": {
      "application/json": [
       "banana juice",
       "banana",
       "juice"
      ]
     },
     "metadata": {},
     "output_type": "display_data"
    }
   ],
   "source": [
    "const regexp = /(apple|orange|banana)\\s(ta|juice)/\n",
    "const matches = \"I like banana juice.\".match(regexp);\n",
    "console.log(matches);\n",
    "//パターンに一致した文字列だけでなく、各グループに一致したものも配列に含む"
   ]
  },
  {
   "cell_type": "code",
   "execution_count": 2,
   "metadata": {
    "dotnet_interactive": {
     "language": "javascript"
    },
    "polyglot_notebook": {
     "kernelName": "javascript"
    },
    "vscode": {
     "languageId": "polyglot-notebook"
    }
   },
   "outputs": [
    {
     "data": {
      "application/json": [
       "9abc9",
       "9"
      ]
     },
     "metadata": {},
     "output_type": "display_data"
    }
   ],
   "source": [
    "const regexp = /^(\\d)abc\\1$/;\n",
    "console.log(\"9abc9\".match(regexp));"
   ]
  },
  {
   "cell_type": "code",
   "execution_count": null,
   "metadata": {
    "dotnet_interactive": {
     "language": "javascript"
    },
    "polyglot_notebook": {
     "kernelName": "javascript"
    },
    "vscode": {
     "languageId": "polyglot-notebook"
    }
   },
   "outputs": [
    {
     "data": {
      "application/json": ""
     },
     "metadata": {},
     "output_type": "display_data"
    }
   ],
   "source": [
    "const regexp = /(\\d)abc\\1abc\\1/;\n",
    "console.log(\"3abc3abc3\".match(regexp));"
   ]
  },
  {
   "cell_type": "code",
   "execution_count": 5,
   "metadata": {
    "dotnet_interactive": {
     "language": "javascript"
    },
    "polyglot_notebook": {
     "kernelName": "javascript"
    },
    "vscode": {
     "languageId": "polyglot-notebook"
    }
   },
   "outputs": [
    {
     "data": {
      "application/json": [
       "3abc3abc2abc2",
       "3",
       "2"
      ]
     },
     "metadata": {},
     "output_type": "display_data"
    }
   ],
   "source": [
    "const regexp = /(\\d)abc\\1abc(\\d)abc\\2/;\n",
    "console.log(\"3abc3abc2abc2\".match(regexp));"
   ]
  },
  {
   "cell_type": "code",
   "execution_count": null,
   "metadata": {
    "dotnet_interactive": {
     "language": "javascript"
    },
    "polyglot_notebook": {
     "kernelName": "javascript"
    },
    "vscode": {
     "languageId": "polyglot-notebook"
    }
   },
   "outputs": [],
   "source": [
    "/ab*c/ bの0回以上の繰り返し ac,abc,abbbc\n",
    "/ab+c/ bの1回以上の繰り返し abc,abbbc\n",
    "/ab?c/ bの0回または1回の繰り返し ac,abcのみ\n",
    "/\\d{3}/ 数字を3回繰り返す つまり3桁の数字\n",
    "/\\d{3,}/ 数字を3回以上繰り返す つまり3桁以上の数字\n",
    "/\\d{3,5}/ 数字を3回以上5回以下繰り返す つまり3桁以上5桁以下の数字\n"
   ]
  },
  {
   "cell_type": "code",
   "execution_count": null,
   "metadata": {
    "dotnet_interactive": {
     "language": "javascript"
    },
    "polyglot_notebook": {
     "kernelName": "javascript"
    },
    "vscode": {
     "languageId": "polyglot-notebook"
    }
   },
   "outputs": [
    {
     "data": {
      "application/json": [
       "999_999_999_"
      ]
     },
     "metadata": {},
     "output_type": "display_data"
    },
    {
     "data": {
      "application/json": [
       "999_"
      ]
     },
     "metadata": {},
     "output_type": "display_data"
    }
   ],
   "source": [
    "const regexp = /\\w+_/;//一致したものが見つかってもとりあえず全部見てさらに見つかったらそれを返す\n",
    "console.log(\"999_999_999_\".match(regexp));\n",
    "\n",
    "const regexp2 = /\\w+?_/;//一致したものが見つかるとすぐ返す\n",
    "console.log(\"999_999_999\".match(regexp2));"
   ]
  },
  {
   "cell_type": "code",
   "execution_count": 12,
   "metadata": {
    "dotnet_interactive": {
     "language": "javascript"
    },
    "polyglot_notebook": {
     "kernelName": "javascript"
    },
    "vscode": {
     "languageId": "polyglot-notebook"
    }
   },
   "outputs": [],
   "source": [
    "//正規表現オブジェクト\n",
    "const regexp = /ab+c/;\n",
    "const regexp2 = new RegExp(\"ab+c\");\n",
    "const regexp3 = new RegExp(/ab+c/);"
   ]
  },
  {
   "cell_type": "code",
   "execution_count": null,
   "metadata": {
    "dotnet_interactive": {
     "language": "javascript"
    },
    "polyglot_notebook": {
     "kernelName": "javascript"
    },
    "vscode": {
     "languageId": "polyglot-notebook"
    }
   },
   "outputs": [],
   "source": [
    "//正規表現オブジェクトを、フラグをつけて作成\n",
    "const globalRegexp = /ab+c/g;\n",
    "const globalRegexp2 = new RegExp(\"ab+c\",\"g\");"
   ]
  },
  {
   "cell_type": "code",
   "execution_count": 14,
   "metadata": {
    "dotnet_interactive": {
     "language": "javascript"
    },
    "polyglot_notebook": {
     "kernelName": "javascript"
    },
    "vscode": {
     "languageId": "polyglot-notebook"
    }
   },
   "outputs": [
    {
     "data": {
      "application/json": [
       "abc",
       "abc",
       "abc"
      ]
     },
     "metadata": {},
     "output_type": "display_data"
    }
   ],
   "source": [
    "const regexp = /abc/g;\n",
    "console.log(\"abc abc abc\".match(regexp)); "
   ]
  },
  {
   "cell_type": "code",
   "execution_count": 16,
   "metadata": {
    "dotnet_interactive": {
     "language": "javascript"
    },
    "polyglot_notebook": {
     "kernelName": "javascript"
    },
    "vscode": {
     "languageId": "polyglot-notebook"
    }
   },
   "outputs": [
    {
     "data": {
      "application/json": [
       "abc"
      ]
     },
     "metadata": {},
     "output_type": "display_data"
    }
   ],
   "source": [
    "const regexp = /abc/;\n",
    "console.log(\"abc abc abc\".match(regexp)); "
   ]
  },
  {
   "cell_type": "code",
   "execution_count": 20,
   "metadata": {
    "dotnet_interactive": {
     "language": "javascript"
    },
    "polyglot_notebook": {
     "kernelName": "javascript"
    },
    "vscode": {
     "languageId": "polyglot-notebook"
    }
   },
   "outputs": [
    {
     "data": {
      "application/json": [
       "abc abc d abc"
      ]
     },
     "metadata": {},
     "output_type": "display_data"
    }
   ],
   "source": [
    "const regexp = /a.*c/;\n",
    "console.log(\"abc abc d abc\".match(regexp)); "
   ]
  },
  {
   "cell_type": "code",
   "execution_count": 2,
   "metadata": {
    "dotnet_interactive": {
     "language": "javascript"
    },
    "polyglot_notebook": {
     "kernelName": "javascript"
    },
    "vscode": {
     "languageId": "polyglot-notebook"
    }
   },
   "outputs": [
    {
     "data": {
      "application/json": [
       "abc"
      ]
     },
     "metadata": {},
     "output_type": "display_data"
    },
    {
     "data": {
      "text/plain": [
       "true"
      ]
     },
     "metadata": {},
     "output_type": "display_data"
    }
   ],
   "source": [
    "// globalフラグをつけずにRegexpオブジェクトを作成すると\n",
    "// 文字列の先頭から検索する\n",
    "const regexp = /ab+c/;\n",
    "const target = \"xabcabbcx\";\n",
    "\n",
    "console.log(regexp.exec(target));\n",
    "console.log(regexp.test(target));\n",
    "\n"
   ]
  },
  {
   "cell_type": "code",
   "execution_count": 1,
   "metadata": {
    "dotnet_interactive": {
     "language": "javascript"
    },
    "polyglot_notebook": {
     "kernelName": "javascript"
    },
    "vscode": {
     "languageId": "polyglot-notebook"
    }
   },
   "outputs": [
    {
     "data": {
      "text/plain": [
       "0"
      ]
     },
     "metadata": {},
     "output_type": "display_data"
    },
    {
     "data": {
      "application/json": [
       "abc"
      ]
     },
     "metadata": {},
     "output_type": "display_data"
    },
    {
     "data": {
      "text/plain": [
       "4"
      ]
     },
     "metadata": {},
     "output_type": "display_data"
    },
    {
     "data": {
      "application/json": [
       "abbc"
      ]
     },
     "metadata": {},
     "output_type": "display_data"
    },
    {
     "data": {
      "text/plain": [
       "8"
      ]
     },
     "metadata": {},
     "output_type": "display_data"
    },
    {
     "data": {
      "application/json": ""
     },
     "metadata": {},
     "output_type": "display_data"
    },
    {
     "data": {
      "text/plain": [
       "0"
      ]
     },
     "metadata": {},
     "output_type": "display_data"
    },
    {
     "data": {
      "text/plain": [
       "0"
      ]
     },
     "metadata": {},
     "output_type": "display_data"
    },
    {
     "data": {
      "text/plain": [
       "true"
      ]
     },
     "metadata": {},
     "output_type": "display_data"
    },
    {
     "data": {
      "text/plain": [
       "4"
      ]
     },
     "metadata": {},
     "output_type": "display_data"
    },
    {
     "data": {
      "text/plain": [
       "true"
      ]
     },
     "metadata": {},
     "output_type": "display_data"
    },
    {
     "data": {
      "text/plain": [
       "8"
      ]
     },
     "metadata": {},
     "output_type": "display_data"
    },
    {
     "data": {
      "text/plain": [
       "false"
      ]
     },
     "metadata": {},
     "output_type": "display_data"
    },
    {
     "data": {
      "text/plain": [
       "0"
      ]
     },
     "metadata": {},
     "output_type": "display_data"
    }
   ],
   "source": [
    "// globalフラグをつけてRegexpオブジェクトを作成すると\n",
    "// 検索を始める位置をlastIndexプロパティで管理できる\n",
    "const globalRegexp = /ab+c/g;\n",
    "const target = \"xabcabbcx\";\n",
    "console.log(globalRegexp.lastIndex);\n",
    "console.log(globalRegexp.exec(target));\n",
    "console.log(globalRegexp.lastIndex);\n",
    "console.log(globalRegexp.exec(target));\n",
    "console.log(globalRegexp.lastIndex);\n",
    "console.log(globalRegexp.exec(target));\n",
    "console.log(globalRegexp.lastIndex);\n",
    "\n",
    "console.log(globalRegexp.lastIndex);\n",
    "console.log(globalRegexp.test(target));\n",
    "console.log(globalRegexp.lastIndex);\n",
    "console.log(globalRegexp.test(target));\n",
    "console.log(globalRegexp.lastIndex);\n",
    "console.log(globalRegexp.test(target));\n",
    "console.log(globalRegexp.lastIndex);\n",
    "    \n"
   ]
  },
  {
   "cell_type": "code",
   "execution_count": null,
   "metadata": {
    "dotnet_interactive": {
     "language": "javascript"
    },
    "polyglot_notebook": {
     "kernelName": "javascript"
    },
    "vscode": {
     "languageId": "polyglot-notebook"
    }
   },
   "outputs": [],
   "source": [
    "const globalRegexp = /ab+c/g;\n",
    "const target = \"xabcabbcx\";\n",
    "let result = globalRegexp.exec(target);\n",
    "\n",
    "while(result){\n",
    "    let result = globalRegexp.exec(target);\n",
    "    console.log(result);\n",
    "}"
   ]
  },
  {
   "cell_type": "code",
   "execution_count": null,
   "metadata": {
    "dotnet_interactive": {
     "language": "javascript"
    },
    "polyglot_notebook": {
     "kernelName": "javascript"
    },
    "vscode": {
     "languageId": "polyglot-notebook"
    }
   },
   "outputs": [
    {
     "data": {
      "application/json": [
       "abcabbc"
      ]
     },
     "metadata": {},
     "output_type": "display_data"
    },
    {
     "data": {
      "application/json": [
       "abc",
       "abbc"
      ]
     },
     "metadata": {},
     "output_type": "display_data"
    }
   ],
   "source": [
    "console.log(\"xabcabbcx\".match(/ab+c/));//gフラグがないと最初に一致した部分文字列だけを返す\n",
    "console.log(\"xabcabbcx\".match(/ab+c/g));//gフラグ付きだと一致する部分文字列全てを返す\n"
   ]
  },
  {
   "cell_type": "code",
   "execution_count": 8,
   "metadata": {
    "dotnet_interactive": {
     "language": "javascript"
    },
    "polyglot_notebook": {
     "kernelName": "javascript"
    },
    "vscode": {
     "languageId": "polyglot-notebook"
    }
   },
   "outputs": [
    {
     "data": {
      "application/json": [
       "abc"
      ]
     },
     "metadata": {},
     "output_type": "display_data"
    },
    {
     "data": {
      "application/json": [
       "abbc"
      ]
     },
     "metadata": {},
     "output_type": "display_data"
    }
   ],
   "source": [
    "const iterator = \"xabcabbcx\".matchAll(/ab+c/g);\n",
    "let result = iterator.next();\n",
    "while(!result.done){\n",
    "    console.log(result.value);\n",
    "    result = iterator.next();\n",
    "}"
   ]
  },
  {
   "cell_type": "code",
   "execution_count": 16,
   "metadata": {
    "dotnet_interactive": {
     "language": "javascript"
    },
    "polyglot_notebook": {
     "kernelName": "javascript"
    },
    "vscode": {
     "languageId": "polyglot-notebook"
    }
   },
   "outputs": [
    {
     "data": {
      "text/plain": [
       "1"
      ]
     },
     "metadata": {},
     "output_type": "display_data"
    },
    {
     "data": {
      "text/plain": [
       "xxabbcx"
      ]
     },
     "metadata": {},
     "output_type": "display_data"
    },
    {
     "data": {
      "text/plain": [
       "xxxx"
      ]
     },
     "metadata": {},
     "output_type": "display_data"
    }
   ],
   "source": [
    "//最初に一致した部分文字列の位置を返す。なければ-1を返す\n",
    "console.log(\"xabcabbcx\".search(/ab+c/));\n",
    "\n",
    "//最初に一致した部分文字列を\"x\"に置き換える\n",
    "console.log(\"xabcabbcx\".replace(/ab+c/,\"x\"));\n",
    "\n",
    "//一致した部分文字列を全て\"x\"に置き換える\n",
    "//必ずgフラグ付きで指定する\n",
    "console.log(\"xabcabbcx\".replaceAll(/ab+c/g,\"x\"));\n"
   ]
  },
  {
   "cell_type": "code",
   "execution_count": 7,
   "metadata": {
    "dotnet_interactive": {
     "language": "javascript"
    },
    "polyglot_notebook": {
     "kernelName": "javascript"
    },
    "vscode": {
     "languageId": "polyglot-notebook"
    }
   },
   "outputs": [
    {
     "data": {
      "text/plain": [
       "true"
      ]
     },
     "metadata": {},
     "output_type": "display_data"
    },
    {
     "data": {
      "text/plain": [
       "true"
      ]
     },
     "metadata": {},
     "output_type": "display_data"
    },
    {
     "data": {
      "text/plain": [
       "false"
      ]
     },
     "metadata": {},
     "output_type": "display_data"
    },
    {
     "data": {
      "text/plain": [
       "false"
      ]
     },
     "metadata": {},
     "output_type": "display_data"
    }
   ],
   "source": [
    "const regexp = /^\\d{3}-?\\d{4}$/;  // ◀ ここに正規表現オブジェクトを作成する処理を追記\n",
    "targets = [\n",
    "    \"123-4567\", // true：一致\n",
    "    \"1234567\",  // true：一致\n",
    "    \"123456\",   // false：不一致\n",
    "    \"12-34567\"  // false：不一致\n",
    "];\n",
    "for(t of targets){\n",
    "    console.log(regexp.test(t));  // 出力結果が上記と同じになることを確認\n",
    "}"
   ]
  },
  {
   "cell_type": "code",
   "execution_count": 9,
   "metadata": {
    "dotnet_interactive": {
     "language": "javascript"
    },
    "polyglot_notebook": {
     "kernelName": "javascript"
    },
    "vscode": {
     "languageId": "polyglot-notebook"
    }
   },
   "outputs": [
    {
     "data": {
      "text/plain": [
       "false"
      ]
     },
     "metadata": {},
     "output_type": "display_data"
    },
    {
     "data": {
      "text/plain": [
       "true"
      ]
     },
     "metadata": {},
     "output_type": "display_data"
    },
    {
     "data": {
      "text/plain": [
       "false"
      ]
     },
     "metadata": {},
     "output_type": "display_data"
    },
    {
     "data": {
      "text/plain": [
       "true"
      ]
     },
     "metadata": {},
     "output_type": "display_data"
    }
   ],
   "source": [
    "const regexp = /^\\w{8,}$/;  // ◀ ここに正規表現オブジェクトを作成するコードを追加\n",
    "targets = [\n",
    "    \"GRy0rGe\",    // false\n",
    "    \"hbSxaK_4\",   // true\n",
    "    \"9a5K$xAh\",   // false\n",
    "    \"Hqf48BdC9T\"  // true\n",
    "];\n",
    "for(t of targets){\n",
    "    console.log(regexp.test(t));  // 出力結果が上記と同じになることを確認\n",
    "}"
   ]
  },
  {
   "cell_type": "code",
   "execution_count": 12,
   "metadata": {
    "dotnet_interactive": {
     "language": "javascript"
    },
    "polyglot_notebook": {
     "kernelName": "javascript"
    },
    "vscode": {
     "languageId": "polyglot-notebook"
    }
   },
   "outputs": [
    {
     "data": {
      "text/plain": [
       "true"
      ]
     },
     "metadata": {},
     "output_type": "display_data"
    },
    {
     "data": {
      "text/plain": [
       "true"
      ]
     },
     "metadata": {},
     "output_type": "display_data"
    },
    {
     "data": {
      "text/plain": [
       "true"
      ]
     },
     "metadata": {},
     "output_type": "display_data"
    },
    {
     "data": {
      "text/plain": [
       "false"
      ]
     },
     "metadata": {},
     "output_type": "display_data"
    }
   ],
   "source": [
    "const regexp = /0[0-9]0[-(]?\\d{4}[-)]?\\d{4}/;  // ◀ ここに正規表現オブジェクトを作成するコードを追加\n",
    "targets = [\n",
    "    \"090-1234-1234\",  // true\n",
    "    \"080(1234)1234\",  // true\n",
    "    \"07012341234\",    // true\n",
    "    \"046-280-6812\"    // false\n",
    "];\n",
    "for(t of targets){\n",
    "    console.log(regexp.test(t));  // 出力結果が上記と同じになることを確認\n",
    "}"
   ]
  },
  {
   "cell_type": "code",
   "execution_count": 19,
   "metadata": {
    "dotnet_interactive": {
     "language": "javascript"
    },
    "polyglot_notebook": {
     "kernelName": "javascript"
    },
    "vscode": {
     "languageId": "polyglot-notebook"
    }
   },
   "outputs": [
    {
     "data": {
      "text/plain": [
       "true"
      ]
     },
     "metadata": {},
     "output_type": "display_data"
    },
    {
     "data": {
      "text/plain": [
       "true"
      ]
     },
     "metadata": {},
     "output_type": "display_data"
    },
    {
     "data": {
      "text/plain": [
       "true"
      ]
     },
     "metadata": {},
     "output_type": "display_data"
    },
    {
     "data": {
      "text/plain": [
       "false"
      ]
     },
     "metadata": {},
     "output_type": "display_data"
    }
   ],
   "source": [
    "const regexp = /0[0-9]0(-\\d{4}){2}|\\(\\d{4}\\)\\d{4}|\\d{8}/;  // ◀ ここに正規表現オブジェクトを作成するコードを追加\n",
    "targets = [\n",
    "    \"090-1234-1234\",  // true\n",
    "    \"080(1234)1234\",  // true\n",
    "    \"07012341234\",    // true\n",
    "    \"046-280-6812\"    // false\n",
    "];\n",
    "for(t of targets){\n",
    "    console.log(regexp.test(t)); } // 出力結果が上記と同じになることを確認"
   ]
  },
  {
   "cell_type": "code",
   "execution_count": null,
   "metadata": {
    "dotnet_interactive": {
     "language": "javascript"
    },
    "polyglot_notebook": {
     "kernelName": "javascript"
    },
    "vscode": {
     "languageId": "polyglot-notebook"
    }
   },
   "outputs": [
    {
     "data": {
      "application/json": [
       "(1234)5678"
      ]
     },
     "metadata": {},
     "output_type": "display_data"
    }
   ],
   "source": [
    "console.log(\"(1234)5678\".match(/\\(\\d{4}\\)\\d{4}/));\n",
    "// ( )はメタ文字なので、文字としてパターンマッチングさせたいときはエスケープ文字を付ける \\(\\)\n",
    "// [ ]の中はリテラルとして扱われるのでエスケープ不要 () . * * ? ただし - にはエスケープ必要\n"
   ]
  },
  {
   "cell_type": "code",
   "execution_count": 35,
   "metadata": {
    "dotnet_interactive": {
     "language": "javascript"
    },
    "polyglot_notebook": {
     "kernelName": "javascript"
    },
    "vscode": {
     "languageId": "polyglot-notebook"
    }
   },
   "outputs": [
    {
     "data": {
      "text/plain": [
       "true"
      ]
     },
     "metadata": {},
     "output_type": "display_data"
    },
    {
     "data": {
      "text/plain": [
       "false"
      ]
     },
     "metadata": {},
     "output_type": "display_data"
    },
    {
     "data": {
      "text/plain": [
       "true"
      ]
     },
     "metadata": {},
     "output_type": "display_data"
    },
    {
     "data": {
      "text/plain": [
       "false"
      ]
     },
     "metadata": {},
     "output_type": "display_data"
    },
    {
     "data": {
      "text/plain": [
       "false"
      ]
     },
     "metadata": {},
     "output_type": "display_data"
    }
   ],
   "source": [
    "const regexp = /^[a-z0-9_+-]+[a-z0-9_+-.]?[a-z0-9_+-]+@[a-z0-9]+[a-z0-9\\-]?[a-z0-9]+.[a-z]{2,}$/;  // ◀ ここに正規表現オブジェクトを作成するコードを追加\n",
    "targets = [\n",
    "    \"banana-apple@example.com\", // true\n",
    "    \".banana@example.co.jp\",  // false\n",
    "    \"strawberry@eee-xx.com\",   // true\n",
    "    \"strawberry@eee-xx-.com\",   // false\n",
    "    \"strawberry@-ex.co.jp\"  // false\n",
    "];\n",
    "for(t of targets){\n",
    "    console.log(regexp.test(t));  // 出力結果が上記と同じになることを確認\n",
    "}"
   ]
  },
  {
   "cell_type": "code",
   "execution_count": null,
   "metadata": {
    "dotnet_interactive": {
     "language": "javascript"
    },
    "polyglot_notebook": {
     "kernelName": "javascript"
    },
    "vscode": {
     "languageId": "polyglot-notebook"
    }
   },
   "outputs": [],
   "source": [
    "const regexp = /^[a-zA-Z0-9_+-]+(\\.[a-zA-Z0-9_+-]+)*@([a-zA-Z0-9][a-zA-Z0-9-]*(?<!-)\\.)+[a-zA-Z]{2,}$/;\n",
    "                                                                        // . の前に - がない場合のみの . に一致する\n",
    "targets = [\n",
    "    \"banana-apple@example.com\", // true\n",
    "    \".banana@example.co.jp\",  // false\n",
    "    \"strawberry@eee-xx.com\",   // true\n",
    "    \"strawberry@eee-xx-.com\",   // false\n",
    "    \"strawberry@-ex.co.jp\"  // false\n",
    "];\n",
    "for(t of targets){\n",
    "    console.log(regexp.test(t));\n",
    "}"
   ]
  },
  {
   "cell_type": "code",
   "execution_count": null,
   "metadata": {
    "dotnet_interactive": {
     "language": "javascript"
    },
    "polyglot_notebook": {
     "kernelName": "javascript"
    },
    "vscode": {
     "languageId": "polyglot-notebook"
    }
   },
   "outputs": [],
   "source": [
    "const regexp = /^[a-z0-9_+-]+[a-z0-9_+-.]?[a-z0-9_+-]+@[a-z0-9]+[a-z0-9\\-]?[a-z0-9]+.[a-z]{2,}$/;  // ◀ ここに正規表現オブジェクトを作成するコードを追加\n",
    "targets = [\n",
    "    \"banana-apple@example.com\", // true\n",
    "    \".banana@example.co.jp\",  // false\n",
    "    \"strawberry@eee-xx.com\",   // true\n",
    "    \"strawberry@eee-xx-.com\",   // false\n",
    "    \"strawberry@-ex.co.jp\"  // false\n",
    "];\n",
    "for(t of targets){\n",
    "    console.log(regexp.test(t));  // 出力結果が上記と同じになることを確認"
   ]
  },
  {
   "cell_type": "code",
   "execution_count": 33,
   "metadata": {
    "dotnet_interactive": {
     "language": "javascript"
    },
    "polyglot_notebook": {
     "kernelName": "javascript"
    },
    "vscode": {
     "languageId": "polyglot-notebook"
    }
   },
   "outputs": [
    {
     "data": {
      "text/plain": [
       "true"
      ]
     },
     "metadata": {},
     "output_type": "display_data"
    },
    {
     "data": {
      "text/plain": [
       "false"
      ]
     },
     "metadata": {},
     "output_type": "display_data"
    },
    {
     "data": {
      "text/plain": [
       "true"
      ]
     },
     "metadata": {},
     "output_type": "display_data"
    },
    {
     "data": {
      "text/plain": [
       "true"
      ]
     },
     "metadata": {},
     "output_type": "display_data"
    },
    {
     "data": {
      "text/plain": [
       "true"
      ]
     },
     "metadata": {},
     "output_type": "display_data"
    }
   ],
   "source": [
    "const sample = /^[a-z0-9_+\\-]+[a-z0-9_+\\-.]?[a-z0-9_+\\-]$/;\n",
    "targets = [\n",
    "    \"banana-apple\", // true\n",
    "    \".banana\",  // false\n",
    "    \"strawberry\",   // true\n",
    "    \"strawberry\",   // false\n",
    "    \"strawberry\"  // false\n",
    "];\n",
    "for(t of targets){\n",
    "    console.log(sample.test(t));  // 出力結果が上記と同じになることを確認\n",
    "}"
   ]
  },
  {
   "cell_type": "code",
   "execution_count": null,
   "metadata": {
    "dotnet_interactive": {
     "language": "javascript"
    },
    "polyglot_notebook": {
     "kernelName": "javascript"
    },
    "vscode": {
     "languageId": "polyglot-notebook"
    }
   },
   "outputs": [],
   "source": [
    "// 12文字以上\n",
    "// [A-Z] [a-z] [0-9] [-_!#] をいずれも１文字以上含む\n",
    "// [A-Z]と[a-z]と[0-9]と -_!# が続く場合の \n",
    "\n",
    "const regexp = /(?=[])/;  // ◀ ここに正規表現オブジェクトを作成するコードを追加\n",
    "targets = [\n",
    "    \"vfS#7bM4!E\",     //false\n",
    "    \"shQiAU7SRrhw\",   // false\n",
    "    \"nXe82#_zi-v5\",   // true\n",
    "    \"#ggE4rVDrqAH!x\"  // true\n",
    "];\n",
    "for(t of targets){\n",
    "    console.log(regexp.test(t));  // 出力結果が上記と同じになることを確認\n",
    "}"
   ]
  },
  {
   "cell_type": "code",
   "execution_count": null,
   "metadata": {
    "dotnet_interactive": {
     "language": "javascript"
    },
    "polyglot_notebook": {
     "kernelName": "javascript"
    },
    "vscode": {
     "languageId": "polyglot-notebook"
    }
   },
   "outputs": [],
   "source": [
    "const regexp = /^(?=[-!#\\w]*[A-Z])(?=[-!#\\w]*[-_!#])(?=[-!#\\w]*\\d)[-!#\\w]{12,}$/;\n",
    "//少なくとも1つ以上の       [A-Z]            [-_!#]       \\d         が含まれ、[-!#\\w]が12文字以上\n",
    "targets = [\n",
    "    \"vfS#7bM4!E\",     // false\n",
    "    \"shQiAU7SRrhw\",   // false\n",
    "    \"nXe82#_zi-v5\",   // true\n",
    "    \"#ggE4rVDrqAH!x\"  // true\n",
    "];\n",
    "for(t of targets){\n",
    "    console.log(regexp.test(t));\n",
    "}"
   ]
  },
  {
   "cell_type": "code",
   "execution_count": null,
   "metadata": {
    "dotnet_interactive": {
     "language": "javascript"
    },
    "polyglot_notebook": {
     "kernelName": "javascript"
    },
    "vscode": {
     "languageId": "polyglot-notebook"
    }
   },
   "outputs": [
    {
     "data": {
      "text/plain": [
       "true"
      ]
     },
     "metadata": {},
     "output_type": "display_data"
    },
    {
     "data": {
      "text/plain": [
       "true"
      ]
     },
     "metadata": {},
     "output_type": "display_data"
    },
    {
     "data": {
      "text/plain": [
       "false"
      ]
     },
     "metadata": {},
     "output_type": "display_data"
    }
   ],
   "source": [
    "const sample = /(?=[-!#\\w]*[A-Z])/;\n",
    "//0個以上の、-!#\\wのどれか と [A-Z]のどれか１文字 があるかどうか\n",
    "console.log(sample.test(\"A\"));\n",
    "console.log(sample.test(\"-A\"));\n",
    "console.log(sample.test(\"##\"));"
   ]
  },
  {
   "cell_type": "code",
   "execution_count": 56,
   "metadata": {
    "dotnet_interactive": {
     "language": "javascript"
    },
    "polyglot_notebook": {
     "kernelName": "javascript"
    },
    "vscode": {
     "languageId": "polyglot-notebook"
    }
   },
   "outputs": [
    {
     "data": {
      "text/plain": [
       "true"
      ]
     },
     "metadata": {},
     "output_type": "display_data"
    },
    {
     "data": {
      "text/plain": [
       "false"
      ]
     },
     "metadata": {},
     "output_type": "display_data"
    },
    {
     "data": {
      "text/plain": [
       "false"
      ]
     },
     "metadata": {},
     "output_type": "display_data"
    }
   ],
   "source": [
    "const sample = /^(?=.*[a-z])(?=.*[A-Z])(?=.*\\d)[a-zA-Z\\d]{8,}$/;\n",
    "//小文字英字と大文字英字と数字を少なくとも一つ含み、８文字以上\n",
    "console.log(sample.test(\"aA1aaaaaa\"));\n",
    "console.log(sample.test(\"aAaaaaaaa\"));\n",
    "console.log(sample.test(\"11111111a\"));\n",
    "\n"
   ]
  },
  {
   "cell_type": "code",
   "execution_count": 59,
   "metadata": {
    "dotnet_interactive": {
     "language": "javascript"
    },
    "polyglot_notebook": {
     "kernelName": "javascript"
    },
    "vscode": {
     "languageId": "polyglot-notebook"
    }
   },
   "outputs": [
    {
     "data": {
      "text/plain": [
       "true"
      ]
     },
     "metadata": {},
     "output_type": "display_data"
    },
    {
     "data": {
      "text/plain": [
       "false"
      ]
     },
     "metadata": {},
     "output_type": "display_data"
    },
    {
     "data": {
      "text/plain": [
       "false"
      ]
     },
     "metadata": {},
     "output_type": "display_data"
    }
   ],
   "source": [
    "const sample = /(?=.*\\d)(?=.*[a-z])(?=.*[!@#\\$%\\^&\\*])[a-zA-Z\\d!@#\\$%\\^&\\*]{6,}/;\n",
    "//少なくとも一つの数字と小文字英字と記号を含み６文字以上\n",
    "console.log(sample.test(\"1a!aaaa\"));\n",
    "console.log(sample.test(\"1aaaaaa\"));\n",
    "console.log(sample.test(\"1Aaaaa\"));\n",
    "\n"
   ]
  },
  {
   "cell_type": "code",
   "execution_count": 61,
   "metadata": {
    "dotnet_interactive": {
     "language": "javascript"
    },
    "polyglot_notebook": {
     "kernelName": "javascript"
    },
    "vscode": {
     "languageId": "polyglot-notebook"
    }
   },
   "outputs": [
    {
     "data": {
      "text/plain": [
       "true"
      ]
     },
     "metadata": {},
     "output_type": "display_data"
    }
   ],
   "source": [
    "const sample = /^(?=[^a-z]*[a-z])(?=[^A-Z]*[A-Z])(?=[^\\d]*\\d).{10,}$/;\n",
    "//少なくとも一つの 小文字英字と大文字英字と数字をいずれも含み、それ以外は何の文字でもよい10文字以上\n",
    "console.log(sample.test(\"aA1^^^^^^^^\"))\n"
   ]
  },
  {
   "cell_type": "code",
   "execution_count": null,
   "metadata": {
    "dotnet_interactive": {
     "language": "javascript"
    },
    "polyglot_notebook": {
     "kernelName": "javascript"
    },
    "vscode": {
     "languageId": "polyglot-notebook"
    }
   },
   "outputs": [
    {
     "data": {
      "text/plain": [
       "true"
      ]
     },
     "metadata": {},
     "output_type": "display_data"
    },
    {
     "data": {
      "text/plain": [
       "true"
      ]
     },
     "metadata": {},
     "output_type": "display_data"
    },
    {
     "data": {
      "text/plain": [
       "false"
      ]
     },
     "metadata": {},
     "output_type": "display_data"
    },
    {
     "data": {
      "text/plain": [
       "false"
      ]
     },
     "metadata": {},
     "output_type": "display_data"
    }
   ],
   "source": [
    "const sample = /^(?=.*[a-zA-Z])(?=.*\\d)(?!.*[!@#\\$%\\^&\\*])[a-zA-Z\\d]{8,}$/;\n",
    "//                                       否定先読み [!@#\\$%\\^&\\*]がひとつも含まれていない\n",
    "const tests = [\"Password1\",//t\n",
    "    \"password123\",//t\n",
    "    \"p@ssword123\",//f\n",
    "    \"Abc123\"//f\n",
    "];\n",
    "for(const e of tests){\n",
    "    console.log(sample.test(e))\n",
    "};\n",
    "\n"
   ]
  },
  {
   "cell_type": "code",
   "execution_count": 66,
   "metadata": {
    "dotnet_interactive": {
     "language": "javascript"
    },
    "polyglot_notebook": {
     "kernelName": "javascript"
    },
    "vscode": {
     "languageId": "polyglot-notebook"
    }
   },
   "outputs": [
    {
     "data": {
      "text/plain": [
       "false"
      ]
     },
     "metadata": {},
     "output_type": "display_data"
    },
    {
     "data": {
      "text/plain": [
       "false"
      ]
     },
     "metadata": {},
     "output_type": "display_data"
    },
    {
     "data": {
      "text/plain": [
       "false"
      ]
     },
     "metadata": {},
     "output_type": "display_data"
    },
    {
     "data": {
      "text/plain": [
       "false"
      ]
     },
     "metadata": {},
     "output_type": "display_data"
    }
   ],
   "source": [
    "const sample =/^(?=.*\\d)(?=.*[a-z])(?=.*[A-Z])(?=.*[\\.\\-_\\*])[a-zA-Z\\d\\.\\-_\\*]{10,15}$/;\n",
    "//少なくとも１つの数字、大小英字、[. - _ *]のいずれかを含み、10文字以上15文字以下\n",
    "const tests = [\"A1.b-c*\",//f\n",
    "    \"Abc123.-*\",//f\n",
    "    \"1234567890\",//f\n",
    "    \"Longer-Example123\"];//f\n",
    "for(const e of tests){\n",
    "    console.log(sample.test(e));\n",
    "}\n"
   ]
  },
  {
   "cell_type": "code",
   "execution_count": 1,
   "metadata": {
    "dotnet_interactive": {
     "language": "javascript"
    },
    "polyglot_notebook": {
     "kernelName": "javascript"
    },
    "vscode": {
     "languageId": "polyglot-notebook"
    }
   },
   "outputs": [
    {
     "data": {
      "application/json": [
       "apple",
       "apple",
       "apple"
      ]
     },
     "metadata": {},
     "output_type": "display_data"
    }
   ],
   "source": [
    "//問題: 以下の文字列から「apple」という単語をすべて探してください。\n",
    "const text = \"apple banana apple orange apple\";\n",
    "console.log(text.match(/apple/g))"
   ]
  },
  {
   "cell_type": "code",
   "execution_count": 2,
   "metadata": {
    "dotnet_interactive": {
     "language": "javascript"
    },
    "polyglot_notebook": {
     "kernelName": "javascript"
    },
    "vscode": {
     "languageId": "polyglot-notebook"
    }
   },
   "outputs": [
    {
     "data": {
      "application/json": [
       "2",
       "3"
      ]
     },
     "metadata": {},
     "output_type": "display_data"
    }
   ],
   "source": [
    "//問題: 以下の文字列からすべての数字を抽出してください。\n",
    "const text = \"I have 2 apples and 3 bananas.\";\n",
    "console.log(text.match(/[\\d]/g))\n"
   ]
  },
  {
   "cell_type": "code",
   "execution_count": 4,
   "metadata": {
    "dotnet_interactive": {
     "language": "javascript"
    },
    "polyglot_notebook": {
     "kernelName": "javascript"
    },
    "vscode": {
     "languageId": "polyglot-notebook"
    }
   },
   "outputs": [
    {
     "data": {
      "application/json": null
     },
     "metadata": {},
     "output_type": "display_data"
    }
   ],
   "source": [
    "//問題: 「bat」または「cat」で終わる単語を見つけてください。\n",
    "const text = \"The bat and cat sat on the mat.\";\n",
    "console.log(text.match(/b(bat|cat)\\b/g))"
   ]
  },
  {
   "cell_type": "code",
   "execution_count": 6,
   "metadata": {
    "dotnet_interactive": {
     "language": "javascript"
    },
    "polyglot_notebook": {
     "kernelName": "javascript"
    },
    "vscode": {
     "languageId": "polyglot-notebook"
    }
   },
   "outputs": [
    {
     "data": {
      "application/json": [
       "2025-01-28",
       "2025-01-29"
      ]
     },
     "metadata": {},
     "output_type": "display_data"
    }
   ],
   "source": [
    "//問題: yyyy-mm-dd の形式の日付を抽出してください。\n",
    "const text = \"Today is 2025-01-28, and tomorrow is 2025-01-29.\";\n",
    "console.log(text.match(/\\d{4}(-\\d{2}){2}/g))"
   ]
  },
  {
   "cell_type": "code",
   "execution_count": null,
   "metadata": {
    "dotnet_interactive": {
     "language": "javascript"
    },
    "polyglot_notebook": {
     "kernelName": "javascript"
    },
    "vscode": {
     "languageId": "polyglot-notebook"
    }
   },
   "outputs": [
    {
     "data": {
      "application/json": [
       "https://example.com",
       "http://test.org"
      ]
     },
     "metadata": {},
     "output_type": "display_data"
    },
    {
     "data": {
      "application/json": null
     },
     "metadata": {},
     "output_type": "display_data"
    }
   ],
   "source": [
    "//問題: http または https で始まるURLを抽出してください。\n",
    "const text = \"Visit https://example.com or http://test.org for more information.\";\n",
    "console.log(text.match(/https?:\\/\\/[^\\s]+/g))\n",
    "//[^\\s]...空白文字以外の文字が 1文字以上続く部分に マッチする。つまり空白文字で区切られるまでの文字列をキャッチする\n"
   ]
  },
  {
   "cell_type": "code",
   "execution_count": 21,
   "metadata": {
    "dotnet_interactive": {
     "language": "javascript"
    },
    "polyglot_notebook": {
     "kernelName": "javascript"
    },
    "vscode": {
     "languageId": "polyglot-notebook"
    }
   },
   "outputs": [
    {
     "data": {
      "application/json": [
       "Hello",
       "tron",
       "world",
       "stron"
      ]
     },
     "metadata": {},
     "output_type": "display_data"
    }
   ],
   "source": [
    "//問題: 以下のHTML文字列からタグを取り除いて、プレーンテキストを取得してください。\n",
    "const html = \"<p>Hello <strong>world</strong>!</p>\";\n",
    "console.log(html.match(/(?<!\\<)\\w+(?!\\>)/g));"
   ]
  },
  {
   "cell_type": "code",
   "execution_count": 27,
   "metadata": {
    "dotnet_interactive": {
     "language": "javascript"
    },
    "polyglot_notebook": {
     "kernelName": "javascript"
    },
    "vscode": {
     "languageId": "polyglot-notebook"
    }
   },
   "outputs": [
    {
     "data": {
      "text/plain": [
       "false"
      ]
     },
     "metadata": {},
     "output_type": "display_data"
    }
   ],
   "source": [
    "const password = \"StrongP@ssw0rd\";\n",
    "console.log((/^(?=.*\\d)(?=.*[A-Z])(?=.*[a-z])[.]{8,}$/).test(password));"
   ]
  },
  {
   "cell_type": "code",
   "execution_count": null,
   "metadata": {
    "vscode": {
     "languageId": "polyglot-notebook"
    }
   },
   "outputs": [],
   "source": []
  }
 ],
 "metadata": {
  "kernelspec": {
   "display_name": ".NET (C#)",
   "language": "C#",
   "name": ".net-csharp"
  },
  "language_info": {
   "name": "python"
  },
  "polyglot_notebook": {
   "kernelInfo": {
    "defaultKernelName": "csharp",
    "items": [
     {
      "aliases": [],
      "name": "csharp"
     }
    ]
   }
  }
 },
 "nbformat": 4,
 "nbformat_minor": 2
}
