{
 "cells": [
  {
   "cell_type": "code",
   "execution_count": null,
   "metadata": {
    "dotnet_interactive": {
     "language": "csharp"
    },
    "polyglot_notebook": {
     "kernelName": "csharp"
    },
    "vscode": {
     "languageId": "polyglot-notebook"
    }
   },
   "outputs": [],
   "source": []
  },
  {
   "cell_type": "code",
   "execution_count": 1,
   "metadata": {
    "dotnet_interactive": {
     "language": "javascript"
    },
    "polyglot_notebook": {
     "kernelName": "javascript"
    },
    "vscode": {
     "languageId": "polyglot-notebook"
    }
   },
   "outputs": [
    {
     "data": {
      "text/plain": [
       "3"
      ]
     },
     "metadata": {},
     "output_type": "display_data"
    }
   ],
   "source": [
    "// 関数宣言\n",
    "function add(a,b){\n",
    "  return a+b  \n",
    "}\n",
    "console.log(add(1,2))"
   ]
  },
  {
   "cell_type": "code",
   "execution_count": null,
   "metadata": {
    "dotnet_interactive": {
     "language": "javascript"
    },
    "polyglot_notebook": {
     "kernelName": "javascript"
    },
    "vscode": {
     "languageId": "polyglot-notebook"
    }
   },
   "outputs": [
    {
     "data": {
      "text/plain": [
       "3"
      ]
     },
     "metadata": {},
     "output_type": "display_data"
    }
   ],
   "source": [
    "// 関数宣言で作った関数はブロックレベルが無効\n",
    "{\n",
    "function add(a,b){\n",
    "    return a+b  \n",
    "  }\n",
    "}\n",
    "  console.log(add(1,2))"
   ]
  },
  {
   "cell_type": "code",
   "execution_count": null,
   "metadata": {
    "dotnet_interactive": {
     "language": "javascript"
    },
    "polyglot_notebook": {
     "kernelName": "javascript"
    },
    "vscode": {
     "languageId": "polyglot-notebook"
    }
   },
   "outputs": [
    {
     "data": {
      "text/plain": [
       "3"
      ]
     },
     "metadata": {},
     "output_type": "display_data"
    },
    {
     "data": {
      "text/plain": [
       "3"
      ]
     },
     "metadata": {},
     "output_type": "display_data"
    }
   ],
   "source": [
    "// 関数式 関数を変数に代入する\n",
    "const add = function(a,b){\n",
    "  return a+b\n",
    "};\n",
    "console.log(add(1,2));\n",
    "\n",
    "\n",
    "(function(a,b){console.log(a+b)})(1,2);"
   ]
  },
  {
   "cell_type": "code",
   "execution_count": null,
   "metadata": {
    "dotnet_interactive": {
     "language": "javascript"
    },
    "polyglot_notebook": {
     "kernelName": "javascript"
    },
    "vscode": {
     "languageId": "polyglot-notebook"
    }
   },
   "outputs": [
    {
     "data": {
      "text/plain": [
       "3"
      ]
     },
     "metadata": {},
     "output_type": "display_data"
    }
   ],
   "source": [
    "// アロー関数式\n",
    "const add = (a,b) =>{\n",
    "  return a + b\n",
    "};\n",
    "console.log(add(1,2));"
   ]
  },
  {
   "cell_type": "code",
   "execution_count": 19,
   "metadata": {
    "dotnet_interactive": {
     "language": "javascript"
    },
    "polyglot_notebook": {
     "kernelName": "javascript"
    },
    "vscode": {
     "languageId": "polyglot-notebook"
    }
   },
   "outputs": [
    {
     "data": {
      "text/plain": [
       "Hello,田中"
      ]
     },
     "metadata": {},
     "output_type": "display_data"
    }
   ],
   "source": [
    "// アロー関数式 引数がひとつの場合は()省略可\n",
    "const hello = name =>{\n",
    "  console.log(\"Hello,\" + name)\n",
    "};\n",
    "hello(\"田中\")"
   ]
  },
  {
   "cell_type": "code",
   "execution_count": 20,
   "metadata": {
    "dotnet_interactive": {
     "language": "javascript"
    },
    "polyglot_notebook": {
     "kernelName": "javascript"
    },
    "vscode": {
     "languageId": "polyglot-notebook"
    }
   },
   "outputs": [
    {
     "data": {
      "text/plain": [
       "100"
      ]
     },
     "metadata": {},
     "output_type": "display_data"
    }
   ],
   "source": [
    "// アロー関数式 return分しか持たない場合は {}とreturn 省略可\n",
    "const TAX_RATE = 10;\n",
    "const calcTax = price => price * TAX_RATE / 100;\n",
    "console.log(calcTax(1000))"
   ]
  },
  {
   "cell_type": "code",
   "execution_count": null,
   "metadata": {
    "dotnet_interactive": {
     "language": "javascript"
    },
    "polyglot_notebook": {
     "kernelName": "javascript"
    },
    "vscode": {
     "languageId": "polyglot-notebook"
    }
   },
   "outputs": [
    {
     "data": {
      "text/plain": [
       "3"
      ]
     },
     "metadata": {},
     "output_type": "display_data"
    }
   ],
   "source": [
    "// 関数式で作成した関数を、obj.func()で呼び出したとき、\n",
    "// func()内にあるthisが参照するのは呼び出し元のオブジェクト\n",
    "const add = function(){\n",
    "    console.log(this.num1 + this.num2);\n",
    "};\n",
    "const obj1 = {\n",
    "    num1 : 1,\n",
    "    num2 : 2,\n",
    "    add : add\n",
    "};\n",
    "obj1.add();"
   ]
  },
  {
   "cell_type": "code",
   "execution_count": null,
   "metadata": {
    "dotnet_interactive": {
     "language": "javascript"
    },
    "polyglot_notebook": {
     "kernelName": "javascript"
    },
    "vscode": {
     "languageId": "polyglot-notebook"
    }
   },
   "outputs": [
    {
     "data": {
      "text/plain": [
       "3"
      ]
     },
     "metadata": {},
     "output_type": "display_data"
    }
   ],
   "source": [
    "const add = function(){\n",
    "    console.log(this.num1 + this.num2);\n",
    "};\n",
    "const obj1 = {\n",
    "    num1 : 1,\n",
    "    num2 : 2\n",
    "};\n",
    "// func.add(obj) \n",
    "// 引数として渡されたオブジェクトをthisに固定した関数オブジェクトを作成する\n",
    "const add2 = add.bind(obj1);\n",
    "const obj2 = {\n",
    "    num1 : 3,\n",
    "    num2 : 4,\n",
    "    add : add2\n",
    "};\n",
    "// obj2のaddプロパティから呼び出したadd2関数は、\n",
    "// bind()メソッドでthisがojb1に固定されているから\n",
    "// obj2オブジェクトから呼び出してもthisがobj2を参照しない\n",
    "obj2.add();\n"
   ]
  },
  {
   "cell_type": "code",
   "execution_count": null,
   "metadata": {
    "dotnet_interactive": {
     "language": "javascript"
    },
    "polyglot_notebook": {
     "kernelName": "javascript"
    },
    "vscode": {
     "languageId": "polyglot-notebook"
    }
   },
   "outputs": [
    {
     "data": {
      "text/plain": [
       "15"
      ]
     },
     "metadata": {},
     "output_type": "display_data"
    }
   ],
   "source": [
    "const add = function(c,d,e){\n",
    "    const sum = this.a + this.b + c + d + e;\n",
    "    console.log(sum);\n",
    "};\n",
    "const obj = {\n",
    "    a : 1,\n",
    "    b : 2\n",
    "};\n",
    "// func.call(obj,value1,value2)\n",
    "// 第一引数で渡されたオブジェクトをthisに固定して\n",
    "// 第二引数以降に渡された引数を使用して関数を実行する\n",
    "add.call(obj,3,4,5);"
   ]
  },
  {
   "cell_type": "code",
   "execution_count": 22,
   "metadata": {
    "dotnet_interactive": {
     "language": "javascript"
    },
    "polyglot_notebook": {
     "kernelName": "javascript"
    },
    "vscode": {
     "languageId": "polyglot-notebook"
    }
   },
   "outputs": [
    {
     "data": {
      "text/plain": [
       "15"
      ]
     },
     "metadata": {},
     "output_type": "display_data"
    }
   ],
   "source": [
    "const add = function(c,d,e){\n",
    "    const sum = this.a + this.b + c + d + e;\n",
    "    console.log(sum);\n",
    "};\n",
    "const obj = {\n",
    "    a : 1,\n",
    "    b : 2\n",
    "};\n",
    "// func.apply(obj,value1,value2)\n",
    "// 第二引数以降を配列にして渡す\n",
    "add.apply(obj,[3,4,5]);"
   ]
  },
  {
   "cell_type": "code",
   "execution_count": 2,
   "metadata": {
    "dotnet_interactive": {
     "language": "javascript"
    },
    "polyglot_notebook": {
     "kernelName": "javascript"
    },
    "vscode": {
     "languageId": "polyglot-notebook"
    }
   },
   "outputs": [
    {
     "data": {
      "text/plain": [
       "3"
      ]
     },
     "metadata": {},
     "output_type": "display_data"
    }
   ],
   "source": [
    "function createAddFunc(){\n",
    "    return () => {\n",
    "        console.log(this.num1 + this.num2);\n",
    "    }\n",
    "}\n",
    "const obj1 = {\n",
    "    num1 : 1,\n",
    "    num2 : 2,\n",
    "    createAddFunc : createAddFunc\n",
    "};\n",
    "const obj2 = {\n",
    "    num1 : 3,\n",
    "    num2 : 4\n",
    "}\n",
    "\n",
    "const add = obj1.createAddFunc();\n",
    "// createAddFunc関数のthisにobj1をひもづけた関数オブジェクトがaddに格納\n",
    "// 戻り値の関数はアロー関数式で、その中のthisは関数作成時のスコープからさがす?\n",
    "\n",
    "add();\n"
   ]
  },
  {
   "cell_type": "code",
   "execution_count": null,
   "metadata": {
    "dotnet_interactive": {
     "language": "javascript"
    },
    "polyglot_notebook": {
     "kernelName": "javascript"
    },
    "vscode": {
     "languageId": "polyglot-notebook"
    }
   },
   "outputs": [
    {
     "data": {
      "text/plain": [
       "私の名前はTanakaです"
      ]
     },
     "metadata": {},
     "output_type": "display_data"
    }
   ],
   "source": [
    "// オブジェクトのプロパティの値の関数式は、省略してかける\n",
    "const person = {\n",
    "    name : \"Tanaka\",\n",
    "    // introduce : function(){\n",
    "    introduce(){\n",
    "        console.log(\"私の名前は\" + this.name + \"です\");\n",
    "    }\n",
    "};\n",
    "person.introduce()"
   ]
  },
  {
   "cell_type": "code",
   "execution_count": 28,
   "metadata": {
    "dotnet_interactive": {
     "language": "javascript"
    },
    "polyglot_notebook": {
     "kernelName": "javascript"
    },
    "vscode": {
     "languageId": "polyglot-notebook"
    }
   },
   "outputs": [
    {
     "data": {
      "text/plain": [
       "私の名前はです。"
      ]
     },
     "metadata": {},
     "output_type": "display_data"
    }
   ],
   "source": [
    "const person = {\n",
    "    name:\"田中\",\n",
    "    introduce: () => {  // ◀ アロー関数式\n",
    "      console.log(\"私の名前は\"+this?.name+\"です。\");\n",
    "    }\n",
    "  };\n",
    "  // ▼ オブジェクトから呼び出してもthisはこのオブジェクトを参照していない\n",
    "  person.introduce();  // 私の名前はです。"
   ]
  },
  {
   "cell_type": "code",
   "execution_count": null,
   "metadata": {
    "dotnet_interactive": {
     "language": "javascript"
    },
    "polyglot_notebook": {
     "kernelName": "javascript"
    },
    "vscode": {
     "languageId": "polyglot-notebook"
    }
   },
   "outputs": [
    {
     "data": {
      "text/plain": [
       "9"
      ]
     },
     "metadata": {},
     "output_type": "display_data"
    }
   ],
   "source": [
    "// デフォルト引数\n",
    "function power(a,b=2){\n",
    "    return a ** b;\n",
    "}\n",
    "console.log(power(3));"
   ]
  },
  {
   "cell_type": "code",
   "execution_count": 31,
   "metadata": {
    "dotnet_interactive": {
     "language": "javascript"
    },
    "polyglot_notebook": {
     "kernelName": "javascript"
    },
    "vscode": {
     "languageId": "polyglot-notebook"
    }
   },
   "outputs": [
    {
     "data": {
      "text/plain": [
       "Taroさん、おはよう"
      ]
     },
     "metadata": {},
     "output_type": "display_data"
    },
    {
     "data": {
      "text/plain": [
       "Jiroさん、おはよう"
      ]
     },
     "metadata": {},
     "output_type": "display_data"
    },
    {
     "data": {
      "text/plain": [
       "Taroさん、おやすみ"
      ]
     },
     "metadata": {},
     "output_type": "display_data"
    }
   ],
   "source": [
    "function greet(msg){\n",
    "    return function(name){\n",
    "        console.log(name + \"さん、\" + msg);\n",
    "    }\n",
    "}\n",
    "const morningGreet = greet(\"おはよう\");\n",
    "morningGreet(\"Taro\");\n",
    "morningGreet(\"Jiro\");\n",
    "const nightGreet = greet(\"おやすみ\");\n",
    "nightGreet(\"Taro\");"
   ]
  },
  {
   "cell_type": "code",
   "execution_count": 34,
   "metadata": {
    "dotnet_interactive": {
     "language": "javascript"
    },
    "polyglot_notebook": {
     "kernelName": "javascript"
    },
    "vscode": {
     "languageId": "polyglot-notebook"
    }
   },
   "outputs": [
    {
     "data": {
      "text/plain": [
       "sub"
      ]
     },
     "metadata": {},
     "output_type": "display_data"
    },
    {
     "data": {
      "text/plain": [
       "main"
      ]
     },
     "metadata": {},
     "output_type": "display_data"
    },
    {
     "data": {
      "text/plain": [
       "grobal"
      ]
     },
     "metadata": {},
     "output_type": "display_data"
    }
   ],
   "source": [
    "main();\n",
    "const str = \"grobal\";\n",
    "console.log(str)\n",
    "function main(){\n",
    "    sub();\n",
    "    const str = \"main\";\n",
    "    console.log(str)\n",
    "}\n",
    "function sub(){\n",
    "    const str = \"sub\";\n",
    "    console.log(str)\n",
    "}"
   ]
  },
  {
   "cell_type": "code",
   "execution_count": 35,
   "metadata": {
    "dotnet_interactive": {
     "language": "javascript"
    },
    "polyglot_notebook": {
     "kernelName": "javascript"
    },
    "vscode": {
     "languageId": "polyglot-notebook"
    }
   },
   "outputs": [
    {
     "data": {
      "text/plain": [
       "10"
      ]
     },
     "metadata": {},
     "output_type": "display_data"
    },
    {
     "data": {
      "text/plain": [
       "100"
      ]
     },
     "metadata": {},
     "output_type": "display_data"
    },
    {
     "data": {
      "text/plain": [
       "314"
      ]
     },
     "metadata": {},
     "output_type": "display_data"
    }
   ],
   "source": [
    "const PI = 3.14;\n",
    "\n",
    "function calcAreaOfTriangle(base,height){\n",
    "    return base * height / 2;\n",
    "}\n",
    "const calcAreaOfSquare = function(side){return side * side;}\n",
    "const calcAreaOfCircle = radius => radius * radius * PI;\n",
    "\n",
    "console.log(calcAreaOfTriangle(10, 2));  // 10\n",
    "console.log(calcAreaOfSquare(10));  // 100\n",
    "console.log(calcAreaOfCircle(10)); // 314"
   ]
  },
  {
   "cell_type": "code",
   "execution_count": 36,
   "metadata": {
    "dotnet_interactive": {
     "language": "javascript"
    },
    "polyglot_notebook": {
     "kernelName": "javascript"
    },
    "vscode": {
     "languageId": "polyglot-notebook"
    }
   },
   "outputs": [
    {
     "data": {
      "text/plain": [
       "60000"
      ]
     },
     "metadata": {},
     "output_type": "display_data"
    },
    {
     "data": {
      "text/plain": [
       "8"
      ]
     },
     "metadata": {},
     "output_type": "display_data"
    }
   ],
   "source": [
    "const product = {\n",
    "    name: \"Game Machine\",  // 製品名\n",
    "    price: 30_000,  // 価格\n",
    "    stockNum: 10,  // 在庫数\n",
    "    sold(num){\n",
    "        this.stockNum -= num;\n",
    "        return this.price * num;\n",
    "    }\n",
    "}\n",
    "console.log(product.sold(2));  // 60000\n",
    "console.log(product.stockNum);  // 8"
   ]
  },
  {
   "cell_type": "code",
   "execution_count": 3,
   "metadata": {
    "dotnet_interactive": {
     "language": "javascript"
    },
    "polyglot_notebook": {
     "kernelName": "javascript"
    },
    "vscode": {
     "languageId": "polyglot-notebook"
    }
   },
   "outputs": [
    {
     "data": {
      "text/plain": [
       "こんにちは、です。"
      ]
     },
     "metadata": {},
     "output_type": "display_data"
    },
    {
     "data": {
      "text/plain": [
       "こんにちは、内側スコープです！"
      ]
     },
     "metadata": {},
     "output_type": "display_data"
    }
   ],
   "source": [
    "const name = \"外側スコープ\";\n",
    "\n",
    "const obj = {\n",
    "  name: \"内側スコープ\",\n",
    "  greet: () => {\n",
    "    console.log(\"こんにちは、\" + this?.name + \"です。\");\n",
    "  },\n",
    "  shout: function() {\n",
    "    console.log(\"こんにちは、\" + this.name + \"です！\");\n",
    "  }\n",
    "};\n",
    "obj.greet();\n",
    "obj.shout();\n"
   ]
  },
  {
   "cell_type": "code",
   "execution_count": null,
   "metadata": {
    "dotnet_interactive": {
     "language": "csharp"
    },
    "polyglot_notebook": {
     "kernelName": "csharp"
    },
    "vscode": {
     "languageId": "polyglot-notebook"
    }
   },
   "outputs": [],
   "source": []
  }
 ],
 "metadata": {
  "kernelspec": {
   "display_name": ".NET (C#)",
   "language": "C#",
   "name": ".net-csharp"
  },
  "language_info": {
   "name": "python"
  },
  "polyglot_notebook": {
   "kernelInfo": {
    "defaultKernelName": "csharp",
    "items": [
     {
      "aliases": [],
      "name": "csharp"
     }
    ]
   }
  }
 },
 "nbformat": 4,
 "nbformat_minor": 2
}
