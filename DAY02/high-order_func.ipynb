{
 "cells": [
  {
   "cell_type": "code",
   "execution_count": null,
   "metadata": {
    "dotnet_interactive": {
     "language": "javascript"
    },
    "polyglot_notebook": {
     "kernelName": "javascript"
    },
    "vscode": {
     "languageId": "polyglot-notebook"
    }
   },
   "outputs": [
    {
     "data": {
      "text/plain": [
       "apple"
      ]
     },
     "metadata": {},
     "output_type": "display_data"
    },
    {
     "data": {
      "text/plain": [
       "150"
      ]
     },
     "metadata": {},
     "output_type": "display_data"
    },
    {
     "data": {
      "text/plain": [
       "orange"
      ]
     },
     "metadata": {},
     "output_type": "display_data"
    },
    {
     "data": {
      "text/plain": [
       "80"
      ]
     },
     "metadata": {},
     "output_type": "display_data"
    },
    {
     "data": {
      "text/plain": [
       "banana"
      ]
     },
     "metadata": {},
     "output_type": "display_data"
    },
    {
     "data": {
      "text/plain": [
       "200"
      ]
     },
     "metadata": {},
     "output_type": "display_data"
    },
    {
     "data": {
      "text/plain": [
       "appleは150です"
      ]
     },
     "metadata": {},
     "output_type": "display_data"
    },
    {
     "data": {
      "text/plain": [
       "orangeは80です"
      ]
     },
     "metadata": {},
     "output_type": "display_data"
    },
    {
     "data": {
      "text/plain": [
       "bananaは200です"
      ]
     },
     "metadata": {},
     "output_type": "display_data"
    }
   ],
   "source": [
    "// map.forEach(callbackFunc)\n",
    "// mapや配列の要素をcallbackfuncの引数として与え、一度ずつ実行する\n",
    "const map = new Map([\n",
    "    [\"apple\", 150],\n",
    "    [\"orange\", 80],\n",
    "    [\"banana\", 200]\n",
    "  ]);\n",
    "map.forEach((value,key)=>{\n",
    "    console.log(key,value);\n",
    "})\n",
    "map.forEach((value,key)=>{\n",
    "    console.log(`${key}は${value}です`);\n",
    "})\n"
   ]
  },
  {
   "cell_type": "code",
   "execution_count": 13,
   "metadata": {
    "dotnet_interactive": {
     "language": "javascript"
    },
    "polyglot_notebook": {
     "kernelName": "javascript"
    },
    "vscode": {
     "languageId": "polyglot-notebook"
    }
   },
   "outputs": [
    {
     "data": {
      "text/plain": [
       "1:0"
      ]
     },
     "metadata": {},
     "output_type": "display_data"
    },
    {
     "data": {
      "text/plain": [
       "2:1"
      ]
     },
     "metadata": {},
     "output_type": "display_data"
    },
    {
     "data": {
      "text/plain": [
       "3:2"
      ]
     },
     "metadata": {},
     "output_type": "display_data"
    },
    {
     "data": {
      "text/plain": [
       "4:3"
      ]
     },
     "metadata": {},
     "output_type": "display_data"
    },
    {
     "data": {
      "text/plain": [
       "5:4"
      ]
     },
     "metadata": {},
     "output_type": "display_data"
    }
   ],
   "source": [
    "const arr = [1,2,3,4,5];\n",
    "arr.forEach((value,index) => {console.log(`${value}:${index}`)})"
   ]
  },
  {
   "cell_type": "code",
   "execution_count": null,
   "metadata": {
    "dotnet_interactive": {
     "language": "javascript"
    },
    "polyglot_notebook": {
     "kernelName": "javascript"
    },
    "vscode": {
     "languageId": "polyglot-notebook"
    }
   },
   "outputs": [
    {
     "data": {
      "text/plain": [
       "3"
      ]
     },
     "metadata": {},
     "output_type": "display_data"
    },
    {
     "data": {
      "text/plain": [
       "5"
      ]
     },
     "metadata": {},
     "output_type": "display_data"
    },
    {
     "data": {
      "text/plain": [
       "2"
      ]
     },
     "metadata": {},
     "output_type": "display_data"
    },
    {
     "data": {
      "text/plain": [
       "4"
      ]
     },
     "metadata": {},
     "output_type": "display_data"
    },
    {
     "data": {
      "application/json": [
       3,
       4,
       5
      ]
     },
     "metadata": {},
     "output_type": "display_data"
    }
   ],
   "source": [
    "const arr = [1,2,3,4,5];\n",
    "// arrの要素で(2より大きい)がtrueとなる最初の要素\n",
    "console.log(arr.find(e => e > 2));\n",
    "console.log(arr.findLast(e => e > 2));\n",
    "console.log(arr.findIndex(e => e > 2));\n",
    "console.log(arr.findLastIndex(e => e > 2));\n",
    "\n",
    "// arrの要素を引数として渡し、関数の評価結果がtrueとなる要素を集めた新しい配列を作る\n",
    "console.log(arr.filter(e => e > 2));"
   ]
  },
  {
   "cell_type": "code",
   "execution_count": null,
   "metadata": {
    "dotnet_interactive": {
     "language": "javascript"
    },
    "polyglot_notebook": {
     "kernelName": "javascript"
    },
    "vscode": {
     "languageId": "polyglot-notebook"
    }
   },
   "outputs": [
    {
     "data": {
      "application/json": [
       1,
       4,
       9,
       16,
       25
      ]
     },
     "metadata": {},
     "output_type": "display_data"
    }
   ],
   "source": [
    "// map()関数\n",
    "// 関数の戻り値を要素とした新しい配列を作る\n",
    "const arr = [1, 2, 3, 4, 5];\n",
    "const newArr = arr.map(e => e * e);\n",
    "console.log(newArr)"
   ]
  },
  {
   "cell_type": "code",
   "execution_count": null,
   "metadata": {
    "dotnet_interactive": {
     "language": "javascript"
    },
    "polyglot_notebook": {
     "kernelName": "javascript"
    },
    "vscode": {
     "languageId": "polyglot-notebook"
    }
   },
   "outputs": [
    {
     "data": {
      "text/plain": [
       "0"
      ]
     },
     "metadata": {},
     "output_type": "display_data"
    },
    {
     "data": {
      "text/plain": [
       "1"
      ]
     },
     "metadata": {},
     "output_type": "display_data"
    },
    {
     "data": {
      "text/plain": [
       "2"
      ]
     },
     "metadata": {},
     "output_type": "display_data"
    },
    {
     "data": {
      "text/plain": [
       "3"
      ]
     },
     "metadata": {},
     "output_type": "display_data"
    },
    {
     "data": {
      "text/plain": [
       "4"
      ]
     },
     "metadata": {},
     "output_type": "display_data"
    },
    {
     "data": {
      "text/plain": [
       "15"
      ]
     },
     "metadata": {},
     "output_type": "display_data"
    }
   ],
   "source": [
    "//reduce()関数\n",
    "const arr = [1,2,3,4,5];\n",
    "const result = arr.reduce((prevResult,value,index) => {\n",
    "    console.log(index);\n",
    "    return prevResult + value;\n",
    "},0);//最初のprevResultを 0 に設定\n",
    "console.log(result);"
   ]
  },
  {
   "cell_type": "code",
   "execution_count": null,
   "metadata": {
    "dotnet_interactive": {
     "language": "javascript"
    },
    "polyglot_notebook": {
     "kernelName": "javascript"
    },
    "vscode": {
     "languageId": "polyglot-notebook"
    }
   },
   "outputs": [
    {
     "data": {
      "text/plain": [
       "true"
      ]
     },
     "metadata": {},
     "output_type": "display_data"
    },
    {
     "data": {
      "text/plain": [
       "false"
      ]
     },
     "metadata": {},
     "output_type": "display_data"
    }
   ],
   "source": [
    "// every()関数\n",
    "// 配列の要素を引数として渡し、その評価結果がすべてtrueだったら trueを返す\n",
    "// どれか一つでもfalseならfalseになっちゃう\n",
    "const arr = [1,2,3,4,5];\n",
    "console.log(arr.every(e => e > 0));\n",
    "console.log(arr.every(e => e > 1));\n"
   ]
  },
  {
   "cell_type": "code",
   "execution_count": null,
   "metadata": {
    "dotnet_interactive": {
     "language": "javascript"
    },
    "polyglot_notebook": {
     "kernelName": "javascript"
    },
    "vscode": {
     "languageId": "polyglot-notebook"
    }
   },
   "outputs": [
    {
     "data": {
      "text/plain": [
       "true"
      ]
     },
     "metadata": {},
     "output_type": "display_data"
    },
    {
     "data": {
      "text/plain": [
       "false"
      ]
     },
     "metadata": {},
     "output_type": "display_data"
    }
   ],
   "source": [
    "// some()関数\n",
    "// 配列の要素を引数として渡し、その評価結果がどれかひとつでもtrueだったら trueを返す\n",
    "// すべてfalseの時のみfalseを返す\n",
    "const arr = [1,2,3,4,5];\n",
    "console.log(arr.some(e => e > 4));\n",
    "console.log(arr.some(e => e > 5));"
   ]
  },
  {
   "cell_type": "code",
   "execution_count": 30,
   "metadata": {
    "dotnet_interactive": {
     "language": "javascript"
    },
    "polyglot_notebook": {
     "kernelName": "javascript"
    },
    "vscode": {
     "languageId": "polyglot-notebook"
    }
   },
   "outputs": [],
   "source": [
    "const LIMIT = 5000;\n",
    "setTimeout(()=>{\n",
    "    console.log(LIMIT/1000 + \"秒が経過しました\");\n",
    "},LIMIT)"
   ]
  },
  {
   "cell_type": "code",
   "execution_count": null,
   "metadata": {
    "dotnet_interactive": {
     "language": "javascript"
    },
    "polyglot_notebook": {
     "kernelName": "javascript"
    },
    "vscode": {
     "languageId": "polyglot-notebook"
    }
   },
   "outputs": [
    {
     "data": {
      "application/json": [
       {
        "name": "サンショウウオ",
        "species": "amphibian"
       },
       {
        "name": "カエル",
        "species": "amphibian"
       },
       {
        "name": "イモリ",
        "species": "amphibian"
       }
      ]
     },
     "metadata": {},
     "output_type": "display_data"
    }
   ],
   "source": [
    "const livingThings = [\n",
    "    {name: \"サンショウウオ\", species: \"amphibian\"},\n",
    "    {name: \"ワニ\", species: \"reptiles\"},\n",
    "    {name: \"ヘビ\", species: \"reptiles\"},\n",
    "    {name: \"カエル\", species: \"amphibian\"},\n",
    "    {name: \"トカゲ\", species: \"reptiles\"},\n",
    "    {name: \"イモリ\", species: \"amphibian\"},\n",
    "    {name: \"カメ\", species: \"reptiles\"}\n",
    "  ];\n",
    "  // const amphibian = livingThings.map(e => e.species === \"amphibian\");\n",
    "  // trueかfalseが返ってきちゃう。\n",
    "  // mapは関数の戻り値を返す filterはtrueとなる要素を返す\n",
    "  const amphibian = livingThings.filter(e => e.species === \"amphibian\");\n",
    "  console.log(amphibian);"
   ]
  },
  {
   "cell_type": "code",
   "execution_count": null,
   "metadata": {
    "dotnet_interactive": {
     "language": "javascript"
    },
    "polyglot_notebook": {
     "kernelName": "javascript"
    },
    "vscode": {
     "languageId": "polyglot-notebook"
    }
   },
   "outputs": [
    {
     "data": {
      "application/json": [
       2,
       4,
       6,
       8
      ]
     },
     "metadata": {},
     "output_type": "display_data"
    }
   ],
   "source": [
    "const myArr = {\n",
    "    elements: [1, 2, 3, 4],\n",
    "    myMap(callback){\n",
    "        const returnArr = [];\n",
    "        for(const e of this.elements){\n",
    "            returnArr.push(callback(e));\n",
    "            //関数(e => e*2)の引数にelements: [1, 2, 3, 4]の要素を順番に与えて実行\n",
    "        }\n",
    "        return returnArr;\n",
    "    }\n",
    "  }\n",
    "  //mtArrオブジェクトのmyMapプロパティの関数myMapに引数として(e => e*2)という関数を与える\n",
    "  const newArr = myArr.myMap(e => e * 2);\n",
    "  console.log(newArr)  // [2,4,6,8]"
   ]
  },
  {
   "cell_type": "code",
   "execution_count": 15,
   "metadata": {
    "dotnet_interactive": {
     "language": "javascript"
    },
    "polyglot_notebook": {
     "kernelName": "javascript"
    },
    "vscode": {
     "languageId": "polyglot-notebook"
    }
   },
   "outputs": [
    {
     "data": {
      "text/plain": [
       "2025"
      ]
     },
     "metadata": {},
     "output_type": "display_data"
    }
   ],
   "source": [
    "const now = new Date();\n",
    "console.log(now.getFullYear())\n"
   ]
  },
  {
   "cell_type": "code",
   "execution_count": null,
   "metadata": {
    "dotnet_interactive": {
     "language": "csharp"
    },
    "polyglot_notebook": {
     "kernelName": "csharp"
    },
    "vscode": {
     "languageId": "polyglot-notebook"
    }
   },
   "outputs": [],
   "source": []
  }
 ],
 "metadata": {
  "kernelspec": {
   "display_name": ".NET (C#)",
   "language": "C#",
   "name": ".net-csharp"
  },
  "language_info": {
   "name": "python"
  },
  "polyglot_notebook": {
   "kernelInfo": {
    "defaultKernelName": "csharp",
    "items": [
     {
      "aliases": [],
      "name": "csharp"
     }
    ]
   }
  }
 },
 "nbformat": 4,
 "nbformat_minor": 2
}
