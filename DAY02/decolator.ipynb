{
 "cells": [
  {
   "cell_type": "code",
   "execution_count": 1,
   "metadata": {
    "dotnet_interactive": {
     "language": "javascript"
    },
    "polyglot_notebook": {
     "kernelName": "javascript"
    },
    "vscode": {
     "languageId": "polyglot-notebook"
    }
   },
   "outputs": [
    {
     "data": {
      "text/plain": [
       "前処理"
      ]
     },
     "metadata": {},
     "output_type": "display_data"
    },
    {
     "data": {
      "text/plain": [
       "田中さん、こんにちは"
      ]
     },
     "metadata": {},
     "output_type": "display_data"
    },
    {
     "data": {
      "text/plain": [
       "後処理"
      ]
     },
     "metadata": {},
     "output_type": "display_data"
    }
   ],
   "source": [
    "function decolator(func){\n",
    "    const msg_before = \"前処理\";\n",
    "    const msg_after = \"後処理\";\n",
    "    return function(...args){\n",
    "        console.log(msg_before);\n",
    "        const result = func(...args);\n",
    "        console.log(msg_after);\n",
    "        return func;\n",
    "    }\n",
    "}\n",
    "const decofunc = decolator((name)=>{console.log(name+\"さん、こんにちは\")});\n",
    "decofunc(\"田中\")"
   ]
  },
  {
   "cell_type": "code",
   "execution_count": null,
   "metadata": {
    "dotnet_interactive": {
     "language": "javascript"
    },
    "polyglot_notebook": {
     "kernelName": "javascript"
    },
    "vscode": {
     "languageId": "polyglot-notebook"
    }
   },
   "outputs": [
    {
     "data": {
      "text/plain": [
       "1"
      ]
     },
     "metadata": {},
     "output_type": "display_data"
    },
    {
     "data": {
      "text/plain": [
       "2"
      ]
     },
     "metadata": {},
     "output_type": "display_data"
    },
    {
     "data": {
      "text/plain": [
       "1"
      ]
     },
     "metadata": {},
     "output_type": "display_data"
    },
    {
     "data": {
      "text/plain": [
       "3"
      ]
     },
     "metadata": {},
     "output_type": "display_data"
    },
    {
     "data": {
      "text/plain": [
       "2"
      ]
     },
     "metadata": {},
     "output_type": "display_data"
    }
   ],
   "source": [
    "function createCounter(){\n",
    "    let count = 0;\n",
    "    return function(){\n",
    "    count++;\n",
    "    console.log(count);\n",
    "    };\n",
    "}\n",
    "const counter1 = createCounter();\n",
    "const counter2 = createCounter();\n",
    "\n",
    "counter1() //1\n",
    "counter1() //2\n",
    "counter2() //1\n",
    "counter1() //3\n",
    "counter2() //2"
   ]
  },
  {
   "cell_type": "code",
   "execution_count": 3,
   "metadata": {
    "dotnet_interactive": {
     "language": "javascript"
    },
    "polyglot_notebook": {
     "kernelName": "javascript"
    },
    "vscode": {
     "languageId": "polyglot-notebook"
    }
   },
   "outputs": [
    {
     "data": {
      "text/plain": [
       "8"
      ]
     },
     "metadata": {},
     "output_type": "display_data"
    },
    {
     "data": {
      "text/plain": [
       "13"
      ]
     },
     "metadata": {},
     "output_type": "display_data"
    }
   ],
   "source": [
    "const add5 = createAdder(5);\n",
    "const add10 = createAdder(10);\n",
    "\n",
    "console.log(add5(3));\n",
    "console.log(add10(3));\n",
    "\n",
    "function createAdder(num1){\n",
    "    return (num2) => num1 + num2;\n",
    "}"
   ]
  },
  {
   "cell_type": "code",
   "execution_count": 4,
   "metadata": {
    "dotnet_interactive": {
     "language": "javascript"
    },
    "polyglot_notebook": {
     "kernelName": "javascript"
    },
    "vscode": {
     "languageId": "polyglot-notebook"
    }
   },
   "outputs": [
    {
     "data": {
      "text/plain": [
       "こんにちは"
      ]
     },
     "metadata": {},
     "output_type": "display_data"
    }
   ],
   "source": [
    "function outer() {\n",
    "    let message = \"こんにちは\";\n",
    "    return function inner() {\n",
    "        console.log(message);\n",
    "    };\n",
    "}\n",
    "\n",
    "const greet = outer();\n",
    "greet();\n"
   ]
  },
  {
   "cell_type": "code",
   "execution_count": 6,
   "metadata": {
    "dotnet_interactive": {
     "language": "javascript"
    },
    "polyglot_notebook": {
     "kernelName": "javascript"
    },
    "vscode": {
     "languageId": "polyglot-notebook"
    }
   },
   "outputs": [
    {
     "data": {
      "text/plain": [
       "0"
      ]
     },
     "metadata": {},
     "output_type": "display_data"
    },
    {
     "data": {
      "text/plain": [
       "1"
      ]
     },
     "metadata": {},
     "output_type": "display_data"
    },
    {
     "data": {
      "text/plain": [
       "2"
      ]
     },
     "metadata": {},
     "output_type": "display_data"
    }
   ],
   "source": [
    "function createFunctions() {\n",
    "    let functions = [];\n",
    "    for (let i = 0; i < 3; i++) {\n",
    "        functions.push(function () {\n",
    "            console.log(i);\n",
    "        });\n",
    "    }\n",
    "    return functions;\n",
    "}\n",
    "\n",
    "const funcs = createFunctions();\n",
    "funcs[0](); // ?\n",
    "funcs[1](); // ?\n",
    "funcs[2](); // ?\n"
   ]
  },
  {
   "cell_type": "code",
   "execution_count": 12,
   "metadata": {
    "dotnet_interactive": {
     "language": "javascript"
    },
    "polyglot_notebook": {
     "kernelName": "javascript"
    },
    "vscode": {
     "languageId": "polyglot-notebook"
    }
   },
   "outputs": [
    {
     "data": {
      "text/plain": [
       "0"
      ]
     },
     "metadata": {},
     "output_type": "display_data"
    },
    {
     "data": {
      "text/plain": [
       "1"
      ]
     },
     "metadata": {},
     "output_type": "display_data"
    },
    {
     "data": {
      "text/plain": [
       "2"
      ]
     },
     "metadata": {},
     "output_type": "display_data"
    }
   ],
   "source": [
    "const counters = [];\n",
    "\n",
    "for (let i = 0; i < 3; i++) {\n",
    "    // counters[i] = function(){\n",
    "    //     console.log(i)\n",
    "    // };\n",
    "    counters[i] = ()=>{console.log(i)}\n",
    "}\n",
    "\n",
    "counters[0](); // 出力: 0\n",
    "counters[1](); // 出力: 1\n",
    "counters[2](); // 出力: 2\n"
   ]
  },
  {
   "cell_type": "code",
   "execution_count": null,
   "metadata": {
    "dotnet_interactive": {
     "language": "javascript"
    },
    "polyglot_notebook": {
     "kernelName": "javascript"
    },
    "vscode": {
     "languageId": "polyglot-notebook"
    }
   },
   "outputs": [],
   "source": [
    "function createBankAccount(amount){\n",
    "    this.amount = amount;\n",
    "    return \n",
    "}\n",
    "\n",
    "\n",
    "const account = createBankAccount(100); // 初期残高100円\n",
    "\n",
    "\n",
    "\n",
    "console.log(account.getBalance()); // 出力: 100\n",
    "account.deposit(50);               // 50円を預ける\n",
    "console.log(account.getBalance()); // 出力: 150\n",
    "account.withdraw(30);              // 30円を引き出す\n",
    "console.log(account.getBalance()); // 出力: 120\n",
    "account.withdraw(200);             // 残高不足のためエラー\n"
   ]
  },
  {
   "cell_type": "code",
   "execution_count": null,
   "metadata": {
    "dotnet_interactive": {
     "language": "csharp"
    },
    "polyglot_notebook": {
     "kernelName": "csharp"
    },
    "vscode": {
     "languageId": "polyglot-notebook"
    }
   },
   "outputs": [],
   "source": [
    "function once(func) {\n",
    "    // ここを実装してください\n",
    "}\n",
    "\n",
    "const initialize = once(() => {\n",
    "    console.log(\"初期化処理が実行されました！\");\n",
    "});\n",
    "\n",
    "initialize(); // 出力: \"初期化処理が実行されました！\"\n",
    "initialize(); // 出力なし\n",
    "initialize(); // 出力なし\n"
   ]
  }
 ],
 "metadata": {
  "kernelspec": {
   "display_name": ".NET (C#)",
   "language": "C#",
   "name": ".net-csharp"
  },
  "language_info": {
   "name": "python"
  },
  "polyglot_notebook": {
   "kernelInfo": {
    "defaultKernelName": "csharp",
    "items": [
     {
      "aliases": [],
      "name": "csharp"
     }
    ]
   }
  }
 },
 "nbformat": 4,
 "nbformat_minor": 2
}
