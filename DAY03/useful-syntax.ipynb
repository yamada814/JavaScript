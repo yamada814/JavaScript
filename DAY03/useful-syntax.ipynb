{
 "cells": [
  {
   "cell_type": "code",
   "execution_count": 1,
   "metadata": {
    "dotnet_interactive": {
     "language": "javascript"
    },
    "polyglot_notebook": {
     "kernelName": "javascript"
    },
    "vscode": {
     "languageId": "polyglot-notebook"
    }
   },
   "outputs": [
    {
     "data": {
      "text/plain": [
       "Taro"
      ]
     },
     "metadata": {},
     "output_type": "display_data"
    },
    {
     "data": {
      "text/plain": [
       "20"
      ]
     },
     "metadata": {},
     "output_type": "display_data"
    }
   ],
   "source": [
    "const arr = [\"Taro\",20];\n",
    "const [name,age] = arr;\n",
    "console.log(name,age)"
   ]
  },
  {
   "cell_type": "code",
   "execution_count": 2,
   "metadata": {
    "dotnet_interactive": {
     "language": "javascript"
    },
    "polyglot_notebook": {
     "kernelName": "javascript"
    },
    "vscode": {
     "languageId": "polyglot-notebook"
    }
   },
   "outputs": [
    {
     "data": {
      "text/plain": [
       "Taro"
      ]
     },
     "metadata": {},
     "output_type": "display_data"
    },
    {
     "data": {
      "text/plain": [
       "20"
      ]
     },
     "metadata": {},
     "output_type": "display_data"
    },
    {
     "data": {
      "text/plain": [
       "Kanagawa"
      ]
     },
     "metadata": {},
     "output_type": "display_data"
    },
    {
     "data": {
      "text/plain": [
       "Yokohama"
      ]
     },
     "metadata": {},
     "output_type": "display_data"
    }
   ],
   "source": [
    "const arr = [\"Taro\", 20, [\"Kanagawa\", \"Yokohama\"]];\n",
    "const [name,age,[prep,city]] = arr\n",
    "console.log(name,age,prep,city);"
   ]
  },
  {
   "cell_type": "code",
   "execution_count": 8,
   "metadata": {
    "dotnet_interactive": {
     "language": "javascript"
    },
    "polyglot_notebook": {
     "kernelName": "javascript"
    },
    "vscode": {
     "languageId": "polyglot-notebook"
    }
   },
   "outputs": [
    {
     "data": {
      "text/plain": [
       "太郎"
      ]
     },
     "metadata": {},
     "output_type": "display_data"
    },
    {
     "data": {
      "text/plain": [
       "20"
      ]
     },
     "metadata": {},
     "output_type": "display_data"
    },
    {
     "data": {
      "text/plain": [
       "2003-01-01"
      ]
     },
     "metadata": {},
     "output_type": "display_data"
    }
   ],
   "source": [
    "const person = {\n",
    "    firstName: \"太郎\",\n",
    "    lastName: \"田中\",\n",
    "    age: 20,\n",
    "    birthday: \"2003-01-01\",\n",
    "    birthplace: \"Yokohama\"\n",
    "}\n",
    "const {\n",
    "    firstName : firstName,\n",
    "    age : age,\n",
    "    birthday : birthday\n",
    "} = person;\n",
    "console.log(firstName, age, birthday);"
   ]
  },
  {
   "cell_type": "code",
   "execution_count": 10,
   "metadata": {
    "dotnet_interactive": {
     "language": "javascript"
    },
    "polyglot_notebook": {
     "kernelName": "javascript"
    },
    "vscode": {
     "languageId": "polyglot-notebook"
    }
   },
   "outputs": [
    {
     "data": {
      "text/plain": [
       "こんにちは、田中太郎さん"
      ]
     },
     "metadata": {},
     "output_type": "display_data"
    }
   ],
   "source": [
    "function sayHello({firstName,lastName}){\n",
    "    console.log(`こんにちは、${lastName}${firstName}さん`);\n",
    "}\n",
    "const person = {\n",
    "    firstName: \"太郎\",\n",
    "    lastName: \"田中\",\n",
    "    age: 20\n",
    "}\n",
    "sayHello(person);\n"
   ]
  },
  {
   "cell_type": "code",
   "execution_count": 12,
   "metadata": {
    "dotnet_interactive": {
     "language": "javascript"
    },
    "polyglot_notebook": {
     "kernelName": "javascript"
    },
    "vscode": {
     "languageId": "polyglot-notebook"
    }
   },
   "outputs": [
    {
     "data": {
      "text/plain": [
       "15"
      ]
     },
     "metadata": {},
     "output_type": "display_data"
    }
   ],
   "source": [
    "// 可変長引数で受け取る関数\n",
    "console.log(add(1,2,3,4,5));\n",
    "function add(num1,num2,...restNumArr){\n",
    "    let sum = num1 + num2;\n",
    "    for(const n of restNumArr){\n",
    "        sum += n;\n",
    "    }\n",
    "    return sum;\n",
    "}"
   ]
  },
  {
   "cell_type": "code",
   "execution_count": 4,
   "metadata": {
    "dotnet_interactive": {
     "language": "javascript"
    },
    "polyglot_notebook": {
     "kernelName": "javascript"
    },
    "vscode": {
     "languageId": "polyglot-notebook"
    }
   },
   "outputs": [
    {
     "data": {
      "text/plain": [
       "10"
      ]
     },
     "metadata": {},
     "output_type": "display_data"
    },
    {
     "data": {
      "text/plain": [
       "24"
      ]
     },
     "metadata": {},
     "output_type": "display_data"
    }
   ],
   "source": [
    "function add(isMultiple,...nums){\n",
    "    if(nums.length === 0) return 0;\n",
    "    if(isMultiple){\n",
    "        return nums.reduce((prev,val) => prev * val);\n",
    "    }\n",
    "    return nums.reduce((prev,val) => prev + val,0)\n",
    "}\n",
    "console.log(add(false,1,2,3,4));\n",
    "console.log(add(true,1,2,3,4));"
   ]
  },
  {
   "cell_type": "code",
   "execution_count": null,
   "metadata": {
    "dotnet_interactive": {
     "language": "javascript"
    },
    "polyglot_notebook": {
     "kernelName": "javascript"
    },
    "vscode": {
     "languageId": "polyglot-notebook"
    }
   },
   "outputs": [
    {
     "data": {
      "application/json": {
       "address": "神奈川県",
       "age": 20,
       "name": "jiro"
      }
     },
     "metadata": {},
     "output_type": "display_data"
    }
   ],
   "source": [
    "//オブジェクトのスプレッド構文\n",
    "const taro = {\n",
    "    name: \"Taro\",\n",
    "    age: 20,\n",
    "    address: \"神奈川県\"\n",
    "};\n",
    "const jiro = {\n",
    "    ...taro,//taroオブジェクトを展開してコピーする感じ\n",
    "    name: \"jiro\"//nameプロパティを\"jiro\"という値で上書きする\n",
    "};\n",
    "console.log(jiro);"
   ]
  },
  {
   "cell_type": "code",
   "execution_count": null,
   "metadata": {
    "dotnet_interactive": {
     "language": "csharp"
    },
    "polyglot_notebook": {
     "kernelName": "csharp"
    },
    "vscode": {
     "languageId": "polyglot-notebook"
    }
   },
   "outputs": [],
   "source": []
  }
 ],
 "metadata": {
  "kernelspec": {
   "display_name": ".NET (C#)",
   "language": "C#",
   "name": ".net-csharp"
  },
  "language_info": {
   "name": "python"
  },
  "polyglot_notebook": {
   "kernelInfo": {
    "defaultKernelName": "csharp",
    "items": [
     {
      "aliases": [],
      "name": "csharp"
     }
    ]
   }
  }
 },
 "nbformat": 4,
 "nbformat_minor": 2
}
