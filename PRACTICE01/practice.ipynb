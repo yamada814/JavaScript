{
 "cells": [
  {
   "cell_type": "code",
   "execution_count": 4,
   "metadata": {
    "dotnet_interactive": {
     "language": "javascript"
    },
    "polyglot_notebook": {
     "kernelName": "javascript"
    },
    "vscode": {
     "languageId": "polyglot-notebook"
    }
   },
   "outputs": [
    {
     "data": {
      "text/plain": [
       "A"
      ]
     },
     "metadata": {},
     "output_type": "display_data"
    }
   ],
   "source": [
    "const price = 500;\n",
    "console.log(price < 1000 ? \"A\":price < 2000 ? \"B\":\"C\");"
   ]
  },
  {
   "cell_type": "code",
   "execution_count": 22,
   "metadata": {
    "dotnet_interactive": {
     "language": "javascript"
    },
    "polyglot_notebook": {
     "kernelName": "javascript"
    },
    "vscode": {
     "languageId": "polyglot-notebook"
    }
   },
   "outputs": [
    {
     "data": {
      "text/plain": [
       "C"
      ]
     },
     "metadata": {},
     "output_type": "display_data"
    }
   ],
   "source": [
    "const price = 2500;\n",
    "console.log(price < 1000 && \"A\" || price < 2000 && \"B\" || \"C\")"
   ]
  },
  {
   "cell_type": "code",
   "execution_count": 26,
   "metadata": {
    "dotnet_interactive": {
     "language": "javascript"
    },
    "polyglot_notebook": {
     "kernelName": "javascript"
    },
    "vscode": {
     "languageId": "polyglot-notebook"
    }
   },
   "outputs": [
    {
     "data": {
      "text/plain": [
       "田中 太郎"
      ]
     },
     "metadata": {},
     "output_type": "display_data"
    },
    {
     "data": {
      "text/plain": [
       "私の名前は田中 太郎です。年齢は20才です。"
      ]
     },
     "metadata": {},
     "output_type": "display_data"
    }
   ],
   "source": [
    "const person = {\n",
    "    firstName: \"太郎\",\n",
    "    lastName: \"田中\",\n",
    "    age: 20,\n",
    "    getFullName(){\n",
    "        return `${this.lastName} ${this.firstName}`\n",
    "    },\n",
    "    introduce(){\n",
    "        console.log(`私の名前は${this.lastName} ${this.firstName}です。年齢は${this.age}才です。`)\n",
    "    }\n",
    "};\n",
    "console.log(person.getFullName());  // 「田中 太郎」とコンソールに出力される\n",
    "person.introduce();"
   ]
  },
  {
   "cell_type": "code",
   "execution_count": 30,
   "metadata": {
    "dotnet_interactive": {
     "language": "javascript"
    },
    "polyglot_notebook": {
     "kernelName": "javascript"
    },
    "vscode": {
     "languageId": "polyglot-notebook"
    }
   },
   "outputs": [
    {
     "data": {
      "application/json": [
       0,
       15,
       30,
       45,
       60,
       75,
       90
      ]
     },
     "metadata": {},
     "output_type": "display_data"
    },
    {
     "data": {
      "text/plain": [
       "315"
      ]
     },
     "metadata": {},
     "output_type": "display_data"
    },
    {
     "data": {
      "text/plain": [
       "315"
      ]
     },
     "metadata": {},
     "output_type": "display_data"
    }
   ],
   "source": [
    "const arr =[];\n",
    "for(let i=0; i<=100; i++){\n",
    "    if(i%3 ===0 && i%5 ===0){\n",
    "        arr.push(i);\n",
    "    }\n",
    "}\n",
    "console.log(arr);\n",
    "console.log(arr.reduce((pre,value)=>pre + value));\n",
    "let sum = 0;\n",
    "for(const e of arr){\n",
    "    sum += e;\n",
    "}\n",
    "console.log(sum);"
   ]
  },
  {
   "cell_type": "code",
   "execution_count": 2,
   "metadata": {
    "dotnet_interactive": {
     "language": "javascript"
    },
    "polyglot_notebook": {
     "kernelName": "javascript"
    },
    "vscode": {
     "languageId": "polyglot-notebook"
    }
   },
   "outputs": [
    {
     "data": {
      "text/plain": [
       "one"
      ]
     },
     "metadata": {},
     "output_type": "display_data"
    },
    {
     "data": {
      "text/plain": [
       "ichi"
      ]
     },
     "metadata": {},
     "output_type": "display_data"
    }
   ],
   "source": [
    "const map = new Map([[1,\"one\"],[2,\"two\"],[3,\"three\"]]);\n",
    "console.log(map.get(1));\n",
    "map.set(1,\"ichi\");\n",
    "console.log(map.get(1));"
   ]
  },
  {
   "cell_type": "code",
   "execution_count": 7,
   "metadata": {
    "dotnet_interactive": {
     "language": "javascript"
    },
    "polyglot_notebook": {
     "kernelName": "javascript"
    },
    "vscode": {
     "languageId": "polyglot-notebook"
    }
   },
   "outputs": [
    {
     "data": {
      "text/plain": [
       "b:2"
      ]
     },
     "metadata": {},
     "output_type": "display_data"
    },
    {
     "data": {
      "text/plain": [
       "e:7"
      ]
     },
     "metadata": {},
     "output_type": "display_data"
    },
    {
     "data": {
      "text/plain": [
       "i:4"
      ]
     },
     "metadata": {},
     "output_type": "display_data"
    },
    {
     "data": {
      "text/plain": [
       "n:6"
      ]
     },
     "metadata": {},
     "output_type": "display_data"
    },
    {
     "data": {
      "text/plain": [
       "g:4"
      ]
     },
     "metadata": {},
     "output_type": "display_data"
    },
    {
     "data": {
      "text/plain": [
       "h:3"
      ]
     },
     "metadata": {},
     "output_type": "display_data"
    },
    {
     "data": {
      "text/plain": [
       "o:5"
      ]
     },
     "metadata": {},
     "output_type": "display_data"
    },
    {
     "data": {
      "text/plain": [
       "s:4"
      ]
     },
     "metadata": {},
     "output_type": "display_data"
    },
    {
     "data": {
      "text/plain": [
       "t:8"
      ]
     },
     "metadata": {},
     "output_type": "display_data"
    },
    {
     "data": {
      "text/plain": [
       "m:2"
      ]
     },
     "metadata": {},
     "output_type": "display_data"
    },
    {
     "data": {
      "text/plain": [
       "a:4"
      ]
     },
     "metadata": {},
     "output_type": "display_data"
    },
    {
     "data": {
      "text/plain": [
       "y:5"
      ]
     },
     "metadata": {},
     "output_type": "display_data"
    },
    {
     "data": {
      "text/plain": [
       "u:3"
      ]
     },
     "metadata": {},
     "output_type": "display_data"
    },
    {
     "data": {
      "text/plain": [
       "f:1"
      ]
     },
     "metadata": {},
     "output_type": "display_data"
    },
    {
     "data": {
      "text/plain": [
       "r:2"
      ]
     },
     "metadata": {},
     "output_type": "display_data"
    },
    {
     "data": {
      "text/plain": [
       "d:1"
      ]
     },
     "metadata": {},
     "output_type": "display_data"
    },
    {
     "data": {
      "text/plain": [
       "’:1"
      ]
     },
     "metadata": {},
     "output_type": "display_data"
    },
    {
     "data": {
      "text/plain": [
       "l:3"
      ]
     },
     "metadata": {},
     "output_type": "display_data"
    },
    {
     "data": {
      "text/plain": [
       "w:1"
      ]
     },
     "metadata": {},
     "output_type": "display_data"
    },
    {
     "data": {
      "text/plain": [
       ".:1"
      ]
     },
     "metadata": {},
     "output_type": "display_data"
    }
   ],
   "source": [
    "const str = \"Being honest may not get you many friends but it’ll always get you the right ones.\".toLowerCase();\n",
    "const map = new Map();\n",
    "for(const c of str){\n",
    "    if(c === \" \"){\n",
    "        continue;\n",
    "    }else if(!(map.has(c))){\n",
    "        map.set(c,1);\n",
    "    }else{\n",
    "        map.set(c,map.get(c)+1);\n",
    "    }\n",
    "}\n",
    "// for(const e of map){\n",
    "//     console.log(`${e[0]}:${e[1]}`);\n",
    "// }\n",
    "for(let [k,v] of map){\n",
    "    console.log(`${k}:${v}`)\n",
    "}\n",
    "\n"
   ]
  },
  {
   "cell_type": "code",
   "execution_count": 4,
   "metadata": {
    "dotnet_interactive": {
     "language": "javascript"
    },
    "polyglot_notebook": {
     "kernelName": "javascript"
    },
    "vscode": {
     "languageId": "polyglot-notebook"
    }
   },
   "outputs": [
    {
     "data": {
      "application/json": [
       "https://www.sh-k.com/education",
       "https://www.sh-k.com/support",
       "https://www.sh-k.com/recruit",
       "https://www.sh-k.com/company",
       "https://www.sh-k.com/company/access",
       "https://www.sh-k.com/company/sitepolicy"
      ]
     },
     "metadata": {},
     "output_type": "display_data"
    }
   ],
   "source": [
    "const rootUrl = \"https://www.sh-k.com\";\n",
    "const relativePaths = [\n",
    "    \"/education\",\n",
    "    \"/support\",\n",
    "    \"/recruit\",\n",
    "    \"/company\",\n",
    "    \"/company/access\",\n",
    "    \"/company/sitepolicy\"\n",
    "];\n",
    "console.log(relativePaths.map(e =>rootUrl + e));"
   ]
  },
  {
   "cell_type": "code",
   "execution_count": 7,
   "metadata": {
    "dotnet_interactive": {
     "language": "javascript"
    },
    "polyglot_notebook": {
     "kernelName": "javascript"
    },
    "vscode": {
     "languageId": "polyglot-notebook"
    }
   },
   "outputs": [
    {
     "data": {
      "application/json": [
       "https://www.sh-k.com/education",
       "https://www.sh-k.com/support",
       "https://www.sh-k.com/recruit",
       "https://www.sh-k.com/company",
       "https://www.sh-k.com/company/access",
       "https://www.sh-k.com/company/sitepolicy"
      ]
     },
     "metadata": {},
     "output_type": "display_data"
    }
   ],
   "source": [
    "const rootUrl = \"https://www.sh-k.com\";\n",
    "const relativePaths = [\n",
    "    \"/education\",\n",
    "    \"/support\",\n",
    "    \"/recruit\",\n",
    "    \"/company\",\n",
    "    \"/company/access\",\n",
    "    \"/company/sitepolicy\"\n",
    "];\n",
    "console.log(relativePaths.reduce((prev,path) =>{\n",
    "   prev.push(rootUrl + path);\n",
    "   return prev;\n",
    "},[]));"
   ]
  },
  {
   "cell_type": "code",
   "execution_count": 11,
   "metadata": {
    "dotnet_interactive": {
     "language": "javascript"
    },
    "polyglot_notebook": {
     "kernelName": "javascript"
    },
    "vscode": {
     "languageId": "polyglot-notebook"
    }
   },
   "outputs": [
    {
     "data": {
      "application/json": [
       1,
       2
      ]
     },
     "metadata": {},
     "output_type": "display_data"
    },
    {
     "data": {
      "text/plain": [
       "3"
      ]
     },
     "metadata": {},
     "output_type": "display_data"
    }
   ],
   "source": [
    "const arr = [1];\n",
    "arr.push(2);\n",
    "console.log(arr);\n",
    "console.log(arr.push(3));"
   ]
  },
  {
   "cell_type": "code",
   "execution_count": 10,
   "metadata": {
    "dotnet_interactive": {
     "language": "javascript"
    },
    "polyglot_notebook": {
     "kernelName": "javascript"
    },
    "vscode": {
     "languageId": "polyglot-notebook"
    }
   },
   "outputs": [
    {
     "data": {
      "application/json": [
       [
        "Tarou",
        68
       ],
       [
        "Sabrou",
        72
       ],
       [
        "Shirou",
        84
       ]
      ]
     },
     "metadata": {},
     "output_type": "display_data"
    },
    {
     "data": {
      "application/json": [
       [
        "Jirou",
        55
       ],
       [
        "Gorou",
        46
       ]
      ]
     },
     "metadata": {},
     "output_type": "display_data"
    }
   ],
   "source": [
    "// 成績一覧\n",
    "const list = [\n",
    "    [\"Tarou\", 68],\n",
    "    [\"Jirou\", 55],\n",
    "    [\"Sabrou\", 72],\n",
    "    [\"Shirou\", 84],\n",
    "    [\"Gorou\", 46]\n",
    "];\n",
    "const gokaku = list.filter(e => e[1] >= 60);\n",
    "const fugokaku = list.filter(e => e[1] < 60);\n",
    "console.log(gokaku);\n",
    "console.log(fugokaku);"
   ]
  },
  {
   "cell_type": "code",
   "execution_count": 19,
   "metadata": {
    "dotnet_interactive": {
     "language": "javascript"
    },
    "polyglot_notebook": {
     "kernelName": "javascript"
    },
    "vscode": {
     "languageId": "polyglot-notebook"
    }
   },
   "outputs": [
    {
     "data": {
      "text/plain": [
       "消費税の除いた商品の合計：2810"
      ]
     },
     "metadata": {},
     "output_type": "display_data"
    },
    {
     "data": {
      "text/plain": [
       "消費税額の合計：262"
      ]
     },
     "metadata": {},
     "output_type": "display_data"
    }
   ],
   "source": [
    "// ショッピングカートを表す配列\n",
    "// 要素は購入する商品を [商品名, 単価, 個数, 分類] で表した配列\n",
    "const cart = [\n",
    "    [\"egg\", 240, 1, \"grocery\"],\n",
    "    [\"milk\", 250, 1, \"grocery\"],\n",
    "    [\"onion\", 100, 2, \"grocery\"],\n",
    "    [\"carrot\", 80, 3, \"grocery\"],\n",
    "    [\"pencil\", 80, 3, \"stationery\"],\n",
    "    [\"eraser\", 70, 1, \"stationery\"],\n",
    "    [\"notebook\", 140, 2, \"stationery\"],\n",
    "    [\"stapler\", 520, 1, \"stationery\"],\n",
    "    [\"tissue paper\", 420, 1,\"daily necessities\"],\n",
    "    [\"cling wrap\", 350, 1, \"daily necessities\"]\n",
    "];\n",
    "const date = {};\n",
    "const noTaxSum = cart.reduce((pre,val) => {\n",
    "    return pre + val[1] * val[2];\n",
    "},0)\n",
    "const taxSum = cart.reduce((pre,val) => {\n",
    "    if(val[3] === \"grocery\"){\n",
    "        return pre + val[1] * 0.08 * val[2]\n",
    "    }else{\n",
    "        return Math.trunc(pre + val[1] * 0.1 * val[2]);\n",
    "    }\n",
    "},0)\n",
    "console.log(`消費税の除いた商品の合計：${noTaxSum}`);\n",
    "console.log(`消費税額の合計：${taxSum}`);"
   ]
  },
  {
   "cell_type": "code",
   "execution_count": 27,
   "metadata": {
    "dotnet_interactive": {
     "language": "javascript"
    },
    "polyglot_notebook": {
     "kernelName": "javascript"
    },
    "vscode": {
     "languageId": "polyglot-notebook"
    }
   },
   "outputs": [
    {
     "data": {
      "text/plain": [
       "10000円入金しました。残高は10000円です。"
      ]
     },
     "metadata": {},
     "output_type": "display_data"
    },
    {
     "data": {
      "text/plain": [
       "5000円出金しました。残高は5000円です。"
      ]
     },
     "metadata": {},
     "output_type": "display_data"
    },
    {
     "data": {
      "text/plain": [
       "1000円出金しました。残高は4000円です。"
      ]
     },
     "metadata": {},
     "output_type": "display_data"
    },
    {
     "data": {
      "text/plain": [
       "2000円入金しました。残高は6000円です。"
      ]
     },
     "metadata": {},
     "output_type": "display_data"
    },
    {
     "data": {
      "text/plain": [
       "RangeError:残高が不足しています。\n",
       "[出金額:10000円,残高:6000円]"
      ]
     },
     "metadata": {},
     "output_type": "display_data"
    }
   ],
   "source": [
    "const account = {\n",
    "    // 口座の残高（bigint型）\n",
    "    balance: 0n,\n",
    "    // 出金の手続きを行うメソッド\n",
    "    withdraw(quantity){\n",
    "        if(typeof quantity !== \"bigint\"){\n",
    "            console.log(\"TypeError:金額はbigint型で指定してください\");\n",
    "            return;\n",
    "        }else if(quantity < 1n){\n",
    "            console.log(\"RangeError:1円未満の金額は指定できません。\");\n",
    "            return;\n",
    "        }else if(this.balance - quantity < 0){\n",
    "            console.log(`RangeError:残高が不足しています。\\n[出金額:${quantity}円,残高:${this.balance}円]`);\n",
    "            return;\n",
    "        }\n",
    "        this.balance -= quantity;\n",
    "        console.log(`${quantity}円出金しました。残高は${this.balance}円です。`);\n",
    "    },\n",
    "    // 入金の手続きを行うメソッド\n",
    "    deposit(quantity){\n",
    "        if(typeof quantity !== \"bigint\"){\n",
    "            console.log(\"TypeError:金額はbigint型で指定してください\");\n",
    "            return;\n",
    "        }else if(quantity < 1n){\n",
    "            console.log(\"RangeError:1円未満の金額は指定できません。\");\n",
    "            return;\n",
    "        }\n",
    "        this.balance += quantity;\n",
    "        console.log(`${quantity}円入金しました。残高は${this.balance}円です。`);\n",
    "    },\n",
    "    operate(...operations){\n",
    "        for(const [ope,amount] of operations){\n",
    "            // try{\n",
    "            //     if(ope === \"withdraw\"){\n",
    "            //         this.withdraw(amount);\n",
    "            //     }else if(ope === \"deposit\"){\n",
    "            //         this.deposit(amount);\n",
    "            //     }\n",
    "            // }catch(error){\n",
    "            //     console.log(error);\n",
    "            // }\n",
    "            switch(ope){\n",
    "                case \"withdraw\":this.withdraw(amount);break;\n",
    "                case \"deposit\":this.deposit(amount);break;\n",
    "                default:console.log(`Error:${ope}は無効な操作です`)\n",
    "            }\n",
    "        }\n",
    "    }\n",
    "}\n",
    "// ▼ 各メソッドの呼び出し例\n",
    "account.deposit(10_000n);  // 10000円入金しました。残高は10000円です。\n",
    "account.withdraw(5_000n);  // 5000円出金しました。残高は5000円です。\n",
    "account.operate([\"withdraw\", 1_000n], [\"deposit\", 2_000n], [\"withdraw\", 10_000n]);"
   ]
  },
  {
   "cell_type": "code",
   "execution_count": 63,
   "metadata": {
    "dotnet_interactive": {
     "language": "javascript"
    },
    "polyglot_notebook": {
     "kernelName": "javascript"
    },
    "vscode": {
     "languageId": "polyglot-notebook"
    }
   },
   "outputs": [
    {
     "data": {
      "text/plain": [
       "*****\n",
       "hello\n",
       "*****"
      ]
     },
     "metadata": {},
     "output_type": "display_data"
    },
    {
     "data": {
      "text/plain": [
       "........\n",
       "good bye\n",
       "........"
      ]
     },
     "metadata": {},
     "output_type": "display_data"
    }
   ],
   "source": [
    "\n",
    "function createDecorator(char){\n",
    "    return {\n",
    "        char:char,\n",
    "        decorate(str){\n",
    "            return this.char.repeat(str.length) + \"\\n\" +\n",
    "            str + \"\\n\" +\n",
    "            this.char.repeat(str.length);\n",
    "        }\n",
    "    }\n",
    "\n",
    "};\n",
    "// ▼ アステリスク「*」を修飾文字としてデコレータを作成\n",
    "const asteriskDecorator = createDecorator(\"*\");\n",
    "console.log(asteriskDecorator.decorate(\"hello\"));\n",
    "// ▼ ドット「.」を修飾文字としてデコレータを作成\n",
    "const dotDecorator = createDecorator(\".\");\n",
    "console.log(dotDecorator.decorate(\"good bye\"));\n"
   ]
  },
  {
   "cell_type": "code",
   "execution_count": null,
   "metadata": {
    "dotnet_interactive": {
     "language": "javascript"
    },
    "polyglot_notebook": {
     "kernelName": "javascript"
    },
    "vscode": {
     "languageId": "polyglot-notebook"
    }
   },
   "outputs": [],
   "source": []
  }
 ],
 "metadata": {
  "kernelspec": {
   "display_name": ".NET (C#)",
   "language": "C#",
   "name": ".net-csharp"
  },
  "language_info": {
   "name": "python"
  },
  "polyglot_notebook": {
   "kernelInfo": {
    "defaultKernelName": "csharp",
    "items": [
     {
      "aliases": [],
      "name": "csharp"
     }
    ]
   }
  }
 },
 "nbformat": 4,
 "nbformat_minor": 2
}
