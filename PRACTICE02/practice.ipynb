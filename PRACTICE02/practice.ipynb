{
 "cells": [
  {
   "cell_type": "code",
   "execution_count": 1,
   "metadata": {
    "dotnet_interactive": {
     "language": "javascript"
    },
    "polyglot_notebook": {
     "kernelName": "javascript"
    },
    "vscode": {
     "languageId": "polyglot-notebook"
    }
   },
   "outputs": [
    {
     "ename": "Error",
     "evalue": "Command cancelled.",
     "output_type": "error",
     "traceback": [
      "Command cancelled."
     ]
    }
   ],
   "source": [
    "class Point{\n",
    "    //プライベートなフィールドは宣言しとかないといけない\n",
    "    #x;\n",
    "    #y;\n",
    "    constructor(x,y){\n",
    "        if(x === undefined) this.#x = 0;\n",
    "        else this.#x = x;\n",
    "        if(y === undefined) this.#y = 0;\n",
    "        else this.#y = y;\n",
    "    };\n",
    "    get x(){\n",
    "        return this.#x\n",
    "    };\n",
    "    set x(x){\n",
    "        this.#x = x;\n",
    "    };\n",
    "    get y(){\n",
    "        return this.#y;\n",
    "    };\n",
    "    set y(y){\n",
    "        this.#y = y;\n",
    "    }\n",
    "}\n",
    "\n",
    "// ▼ 動作テスト用のコード\n",
    "const point1 = new Point();\n",
    "console.log(`[x, y]=[${point1.x}, ${point1.y}]`);  // [x, y]=[0, 0]\n",
    "const point2 = new Point(5, 5);\n",
    "point2.x = 10;\n",
    "point2.y = 10;\n",
    "console.log(`[x, y]=[${point2.x}, ${point2.y}]`);  // [x, y]=[10, 10]\n",
    "\n",
    "class Robot extends Point{\n",
    "    constructor(x = 0,y = 0){\n",
    "        super(x,y);\n",
    "    };\n",
    "    moveX(mx){\n",
    "        this.x += mx;\n",
    "    };\n",
    "    moveY(my){\n",
    "        this.y += my;\n",
    "    };\n",
    "    moveXY(mx,my){\n",
    "        this.x += mx;\n",
    "        this.y += my;\n",
    "    };\n",
    "    getPosition(){\n",
    "        return [this.x,this.y];\n",
    "    };\n",
    "}\n",
    "\n",
    "// ▼ 動作テスト用のコード\n",
    "const robot = new Robot();\n",
    "robot.moveX(5);\n",
    "robot.moveY(10);\n",
    "console.log(robot.getPosition()); // [5, 10]がコンソールに出力される\n",
    "robot.moveXY(10, 5);\n",
    "console.log(robot.getPosition()); // [15, 15]がコンソールに出力される"
   ]
  },
  {
   "cell_type": "code",
   "execution_count": 3,
   "metadata": {
    "dotnet_interactive": {
     "language": "javascript"
    },
    "polyglot_notebook": {
     "kernelName": "javascript"
    },
    "vscode": {
     "languageId": "polyglot-notebook"
    }
   },
   "outputs": [
    {
     "data": {
      "text/plain": [
       "true"
      ]
     },
     "metadata": {},
     "output_type": "display_data"
    },
    {
     "data": {
      "text/plain": [
       "false"
      ]
     },
     "metadata": {},
     "output_type": "display_data"
    }
   ],
   "source": [
    "const map = new Map([[1,\"one\"],[2,\"two\"],[3,\"three\"]]);\n",
    "console.log(map.delete(3));\n",
    "console.log(map.delete(4));\n"
   ]
  },
  {
   "cell_type": "code",
   "execution_count": null,
   "metadata": {
    "dotnet_interactive": {
     "language": "javascript"
    },
    "polyglot_notebook": {
     "kernelName": "javascript"
    },
    "vscode": {
     "languageId": "polyglot-notebook"
    }
   },
   "outputs": [
    {
     "data": {
      "text/plain": [
       "250"
      ]
     },
     "metadata": {},
     "output_type": "display_data"
    },
    {
     "data": {
      "text/plain": [
       "20"
      ]
     },
     "metadata": {},
     "output_type": "display_data"
    }
   ],
   "source": [
    "const data =\n",
    "`King Charles III and Queen Consort Camilla released their\n",
    "first official portraits following the coronation. The portraits,\n",
    "taken by photographer Hugo Burnand and released by Buckingham Palace,\n",
    "arrived on the royal family's official Instagram account Monday,\n",
    "along with a message from King Charles. \"As the Coronation weekend draws\n",
    "to a close, my wife and I just wanted to share our most sincere and\n",
    "heartfelt thanks to all those who have helped to make this such a special\n",
    "occasion,\" reads the caption on a photo of the couple together.\n",
    "\"We pay particular tribute to the countless people who have given their time\n",
    "and dedication to ensuring that the celebrations in London, Windsor and further\n",
    "afield were as happy, safe and enjoyable as possible. \"The statement continued:\n",
    "\"To those who joined in the celebrations - whether at home, at street parties\n",
    "and lunches, or by volunteering in communities - we thank you, each and every one.\n",
    "To know that we have your support and encouragement, and to witness your kindness\n",
    "expressed in so many different ways, has been the greatest possible Coronation gift,\n",
    "as we now rededicate our lives to serving the people of the United Kingdom,\n",
    "the Realms and Commonwealth.\" In his solo photo, Charles wears the Imperial State Crown\n",
    "and the Robe of Estate while holding the Sovereign's Orb and Sovereign's Sceptre with Cross.\n",
    "He's seated in one of a pair of 1902 throne chairs made for King George V and Queen Mary\n",
    "to sit in at King Edward VII's coronation.`;\n",
    "\n",
    "const array = data.split(/(?:\\s|[\"\",.:-])+/);\n",
    "console.log(array.length);\n",
    "// const it = data.matchAll(/[A-Za-z]{5,}/);\n",
    "// let result = it.next();\n",
    "// while(!result.done){\n",
    "//     console.log(result.value);\n",
    "//     result = it.next();\n",
    "// }\n",
    "console.log(data.match(/[]+[A-Za-z]{5}[\\s.:]+/g).length)"
   ]
  },
  {
   "cell_type": "code",
   "execution_count": 18,
   "metadata": {
    "dotnet_interactive": {
     "language": "javascript"
    },
    "polyglot_notebook": {
     "kernelName": "javascript"
    },
    "vscode": {
     "languageId": "polyglot-notebook"
    }
   },
   "outputs": [
    {
     "data": {
      "text/plain": [
       "17"
      ]
     },
     "metadata": {},
     "output_type": "display_data"
    }
   ],
   "source": [
    "console.log('`King Charles III and Queen Consort Camilla released their first official portraits following the coronation. The portraits,'.split(/. ./).length);"
   ]
  },
  {
   "cell_type": "code",
   "execution_count": null,
   "metadata": {
    "dotnet_interactive": {
     "language": "javascript"
    },
    "polyglot_notebook": {
     "kernelName": "javascript"
    },
    "vscode": {
     "languageId": "polyglot-notebook"
    }
   },
   "outputs": [],
   "source": []
  }
 ],
 "metadata": {
  "kernelspec": {
   "display_name": ".NET (C#)",
   "language": "C#",
   "name": ".net-csharp"
  },
  "language_info": {
   "name": "python"
  },
  "polyglot_notebook": {
   "kernelInfo": {
    "defaultKernelName": "csharp",
    "items": [
     {
      "aliases": [],
      "name": "csharp"
     }
    ]
   }
  }
 },
 "nbformat": 4,
 "nbformat_minor": 2
}
